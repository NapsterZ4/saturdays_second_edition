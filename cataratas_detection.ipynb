{
  "nbformat": 4,
  "nbformat_minor": 0,
  "metadata": {
    "colab": {
      "name": "cataratas_detection.ipynb",
      "provenance": [],
      "collapsed_sections": [],
      "mount_file_id": "1VO75Cg3Y-Rhg_OFLhTLIHMyXFWNFiQNE",
      "authorship_tag": "ABX9TyMol+cH1fjVhLM5oEAe6iF3",
      "include_colab_link": true
    },
    "kernelspec": {
      "name": "python3",
      "display_name": "Python 3"
    }
  },
  "cells": [
    {
      "cell_type": "markdown",
      "metadata": {
        "id": "view-in-github",
        "colab_type": "text"
      },
      "source": [
        "<a href=\"https://colab.research.google.com/github/NapsterZ4/saturdays_second_edition/blob/master/cataratas_detection.ipynb\" target=\"_parent\"><img src=\"https://colab.research.google.com/assets/colab-badge.svg\" alt=\"Open In Colab\"/></a>"
      ]
    },
    {
      "cell_type": "markdown",
      "metadata": {
        "id": "gpmUBE7CtzWf",
        "colab_type": "text"
      },
      "source": [
        "Montaje desde google drive"
      ]
    },
    {
      "cell_type": "code",
      "metadata": {
        "id": "pTsBaT3duBJI",
        "colab_type": "code",
        "colab": {}
      },
      "source": [
        "from google.colab import drive\n",
        "drive.mount('/content/drive')"
      ],
      "execution_count": null,
      "outputs": []
    },
    {
      "cell_type": "markdown",
      "metadata": {
        "id": "0AZVF0GKuHP3",
        "colab_type": "text"
      },
      "source": [
        "# Importando librerías"
      ]
    },
    {
      "cell_type": "code",
      "metadata": {
        "id": "2hsF7aQQuLkz",
        "colab_type": "code",
        "colab": {}
      },
      "source": [
        "import tensorflow as tf\n",
        "import os\n",
        "import numpy as np\n",
        "\n",
        "from tensorflow.keras import layers, models\n",
        "import matplotlib.pyplot as plt"
      ],
      "execution_count": 16,
      "outputs": []
    },
    {
      "cell_type": "markdown",
      "metadata": {
        "id": "eb8mL5kRzXlQ",
        "colab_type": "text"
      },
      "source": [
        "# Cargando datasets"
      ]
    },
    {
      "cell_type": "markdown",
      "metadata": {
        "id": "z8bUjRDC5JvG",
        "colab_type": "text"
      },
      "source": [
        "## Etiquetado y extrayendo información"
      ]
    },
    {
      "cell_type": "code",
      "metadata": {
        "id": "DG7qXwbvyiuz",
        "colab_type": "code",
        "colab": {
          "base_uri": "https://localhost:8080/",
          "height": 34
        },
        "outputId": "11a8b7de-7e98-48a6-863e-9750e64a32ab"
      },
      "source": [
        "files = []\n",
        "labels = []\n",
        "\n",
        "for dirname, _, filenames in os.walk('/content/drive/My Drive/Colab Notebooks/cataratas_images'):\n",
        "  for filename in filenames:\n",
        "    if filename.endswith('.png'):\n",
        "      files.append(os.path.join(dirname, filename))\n",
        "      l = np.zeros(4)\n",
        "\n",
        "      if filename.startswith('NL'):\n",
        "        l[0] = 1\n",
        "      \n",
        "      elif filename.startswith('ca'):\n",
        "        l[1] = 1\n",
        "\n",
        "      elif filename.startswith('Gl'):\n",
        "        l[2] = 1\n",
        "\n",
        "      elif filename.startswith('Re'):\n",
        "        l[3] = 1\n",
        "      \n",
        "      labels.append(1)\n",
        "\n",
        "print(len(labels), len(files))"
      ],
      "execution_count": 17,
      "outputs": [
        {
          "output_type": "stream",
          "text": [
            "601 601\n"
          ],
          "name": "stdout"
        }
      ]
    },
    {
      "cell_type": "markdown",
      "metadata": {
        "id": "AN2IHAB35PWu",
        "colab_type": "text"
      },
      "source": [
        "## Train Test"
      ]
    },
    {
      "cell_type": "code",
      "metadata": {
        "id": "gTOhIiKD43Wr",
        "colab_type": "code",
        "colab": {}
      },
      "source": [
        ""
      ],
      "execution_count": null,
      "outputs": []
    }
  ]
}