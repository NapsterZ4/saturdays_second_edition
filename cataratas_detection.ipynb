{
  "nbformat": 4,
  "nbformat_minor": 0,
  "metadata": {
    "colab": {
      "name": "cataratas_detection.ipynb",
      "provenance": [],
      "collapsed_sections": [],
      "toc_visible": true,
      "include_colab_link": true
    },
    "kernelspec": {
      "name": "python3",
      "display_name": "Python 3"
    }
  },
  "cells": [
    {
      "cell_type": "markdown",
      "metadata": {
        "id": "view-in-github",
        "colab_type": "text"
      },
      "source": [
        "<a href=\"https://colab.research.google.com/github/NapsterZ4/saturdays_second_edition/blob/master/cataratas_detection.ipynb\" target=\"_parent\"><img src=\"https://colab.research.google.com/assets/colab-badge.svg\" alt=\"Open In Colab\"/></a>"
      ]
    },
    {
      "cell_type": "markdown",
      "metadata": {
        "id": "gpmUBE7CtzWf",
        "colab_type": "text"
      },
      "source": [
        "Montaje desde google drive"
      ]
    },
    {
      "cell_type": "code",
      "metadata": {
        "id": "pTsBaT3duBJI",
        "colab_type": "code",
        "colab": {
          "base_uri": "https://localhost:8080/",
          "height": 124
        },
        "outputId": "e741e6d1-f302-4951-d1e0-810c4e5bcd2a"
      },
      "source": [
        "from google.colab import drive\n",
        "drive.mount('/content/drive')"
      ],
      "execution_count": 2,
      "outputs": [
        {
          "output_type": "stream",
          "text": [
            "Go to this URL in a browser: https://accounts.google.com/o/oauth2/auth?client_id=947318989803-6bn6qk8qdgf4n4g3pfee6491hc0brc4i.apps.googleusercontent.com&redirect_uri=urn%3aietf%3awg%3aoauth%3a2.0%3aoob&response_type=code&scope=email%20https%3a%2f%2fwww.googleapis.com%2fauth%2fdocs.test%20https%3a%2f%2fwww.googleapis.com%2fauth%2fdrive%20https%3a%2f%2fwww.googleapis.com%2fauth%2fdrive.photos.readonly%20https%3a%2f%2fwww.googleapis.com%2fauth%2fpeopleapi.readonly\n",
            "\n",
            "Enter your authorization code:\n",
            "··········\n",
            "Mounted at /content/drive\n"
          ],
          "name": "stdout"
        }
      ]
    },
    {
      "cell_type": "markdown",
      "metadata": {
        "id": "0AZVF0GKuHP3",
        "colab_type": "text"
      },
      "source": [
        "# Importando librerías"
      ]
    },
    {
      "cell_type": "code",
      "metadata": {
        "id": "2hsF7aQQuLkz",
        "colab_type": "code",
        "colab": {}
      },
      "source": [
        "import tensorflow as tf\n",
        "import os\n",
        "import numpy as np\n",
        "from sklearn.model_selection import train_test_split\n",
        "\n",
        "from tensorflow.keras import layers, models\n",
        "import matplotlib.pyplot as plt"
      ],
      "execution_count": null,
      "outputs": []
    },
    {
      "cell_type": "markdown",
      "metadata": {
        "id": "eb8mL5kRzXlQ",
        "colab_type": "text"
      },
      "source": [
        "# Cargando datasets"
      ]
    },
    {
      "cell_type": "markdown",
      "metadata": {
        "id": "z8bUjRDC5JvG",
        "colab_type": "text"
      },
      "source": [
        "## Etiquetado y extrayendo información"
      ]
    },
    {
      "cell_type": "code",
      "metadata": {
        "id": "DG7qXwbvyiuz",
        "colab_type": "code",
        "colab": {
          "base_uri": "https://localhost:8080/",
          "height": 34
        },
        "outputId": "11a8b7de-7e98-48a6-863e-9750e64a32ab"
      },
      "source": [
        "files = []\n",
        "labels = []\n",
        "\n",
        "for dirname, _, filenames in os.walk('/content/drive/My Drive/Colab Notebooks/cataratas_images'):\n",
        "  for filename in filenames:\n",
        "    if filename.endswith('.png'):\n",
        "      files.append(os.path.join(dirname, filename))\n",
        "      l = np.zeros(4)\n",
        "\n",
        "      if filename.startswith('NL'):\n",
        "        l[0] = 1\n",
        "      \n",
        "      elif filename.startswith('ca'):\n",
        "        l[1] = 1\n",
        "\n",
        "      elif filename.startswith('Gl'):\n",
        "        l[2] = 1\n",
        "\n",
        "      elif filename.startswith('Re'):\n",
        "        l[3] = 1\n",
        "      \n",
        "      labels.append(1)\n",
        "\n",
        "print(len(labels), len(files))"
      ],
      "execution_count": null,
      "outputs": [
        {
          "output_type": "stream",
          "text": [
            "601 601\n"
          ],
          "name": "stdout"
        }
      ]
    },
    {
      "cell_type": "markdown",
      "metadata": {
        "id": "AN2IHAB35PWu",
        "colab_type": "text"
      },
      "source": [
        "## Train Test"
      ]
    },
    {
      "cell_type": "code",
      "metadata": {
        "id": "gTOhIiKD43Wr",
        "colab_type": "code",
        "colab": {
          "base_uri": "https://localhost:8080/",
          "height": 54
        },
        "outputId": "7ffe6224-b1e2-4926-cb3e-dbc7ee7e14c1"
      },
      "source": [
        "combined = list(zip(files, labels))\n",
        "np.random.shuffle(combined)\n",
        "files[:], labels[:] = zip(*combined)\n",
        "print(\"Files:{}, labels:{}\".format(files, labels))"
      ],
      "execution_count": null,
      "outputs": [
        {
          "output_type": "stream",
          "text": [
            "Files:['/content/drive/My Drive/Colab Notebooks/cataratas_images/2_glaucoma/Glaucoma_094.png', '/content/drive/My Drive/Colab Notebooks/cataratas_images/2_cataract/cataract_075.png', '/content/drive/My Drive/Colab Notebooks/cataratas_images/1_normal/NL_295.png', '/content/drive/My Drive/Colab Notebooks/cataratas_images/2_cataract/cataract_029.png', '/content/drive/My Drive/Colab Notebooks/cataratas_images/2_glaucoma/Glaucoma_009.png', '/content/drive/My Drive/Colab Notebooks/cataratas_images/1_normal/NL_102.png', '/content/drive/My Drive/Colab Notebooks/cataratas_images/2_cataract/cataract_031.png', '/content/drive/My Drive/Colab Notebooks/cataratas_images/2_glaucoma/Glaucoma_075.png', '/content/drive/My Drive/Colab Notebooks/cataratas_images/1_normal/NL_131.png', '/content/drive/My Drive/Colab Notebooks/cataratas_images/1_normal/NL_223.png', '/content/drive/My Drive/Colab Notebooks/cataratas_images/2_glaucoma/Glaucoma_079.png', '/content/drive/My Drive/Colab Notebooks/cataratas_images/3_retina_disease/Retina_052.png', '/content/drive/My Drive/Colab Notebooks/cataratas_images/2_glaucoma/Glaucoma_002.png', '/content/drive/My Drive/Colab Notebooks/cataratas_images/2_glaucoma/Glaucoma_057.png', '/content/drive/My Drive/Colab Notebooks/cataratas_images/3_retina_disease/Retina_094.png', '/content/drive/My Drive/Colab Notebooks/cataratas_images/1_normal/NL_104.png', '/content/drive/My Drive/Colab Notebooks/cataratas_images/2_glaucoma/Glaucoma_080.png', '/content/drive/My Drive/Colab Notebooks/cataratas_images/1_normal/NL_141.png', '/content/drive/My Drive/Colab Notebooks/cataratas_images/1_normal/NL_160.png', '/content/drive/My Drive/Colab Notebooks/cataratas_images/1_normal/NL_203.png', '/content/drive/My Drive/Colab Notebooks/cataratas_images/1_normal/NL_107.png', '/content/drive/My Drive/Colab Notebooks/cataratas_images/1_normal/NL_243.png', '/content/drive/My Drive/Colab Notebooks/cataratas_images/1_normal/NL_152.png', '/content/drive/My Drive/Colab Notebooks/cataratas_images/1_normal/NL_279.png', '/content/drive/My Drive/Colab Notebooks/cataratas_images/1_normal/NL_035.png', '/content/drive/My Drive/Colab Notebooks/cataratas_images/2_glaucoma/Glaucoma_028.png', '/content/drive/My Drive/Colab Notebooks/cataratas_images/2_glaucoma/Glaucoma_088.png', '/content/drive/My Drive/Colab Notebooks/cataratas_images/2_glaucoma/Glaucoma_048.png', '/content/drive/My Drive/Colab Notebooks/cataratas_images/2_glaucoma/Glaucoma_095.png', '/content/drive/My Drive/Colab Notebooks/cataratas_images/3_retina_disease/Retina_008.png', '/content/drive/My Drive/Colab Notebooks/cataratas_images/3_retina_disease/Retina_041.png', '/content/drive/My Drive/Colab Notebooks/cataratas_images/2_glaucoma/Glaucoma_024.png', '/content/drive/My Drive/Colab Notebooks/cataratas_images/1_normal/NL_095.png', '/content/drive/My Drive/Colab Notebooks/cataratas_images/2_cataract/cataract_004.png', '/content/drive/My Drive/Colab Notebooks/cataratas_images/2_glaucoma/Glaucoma_072.png', '/content/drive/My Drive/Colab Notebooks/cataratas_images/2_cataract/cataract_012.png', '/content/drive/My Drive/Colab Notebooks/cataratas_images/1_normal/NL_211.png', '/content/drive/My Drive/Colab Notebooks/cataratas_images/1_normal/NL_145.png', '/content/drive/My Drive/Colab Notebooks/cataratas_images/1_normal/NL_134.png', '/content/drive/My Drive/Colab Notebooks/cataratas_images/1_normal/NL_036.png', '/content/drive/My Drive/Colab Notebooks/cataratas_images/2_cataract/cataract_098.png', '/content/drive/My Drive/Colab Notebooks/cataratas_images/3_retina_disease/Retina_025.png', '/content/drive/My Drive/Colab Notebooks/cataratas_images/1_normal/NL_156.png', '/content/drive/My Drive/Colab Notebooks/cataratas_images/1_normal/NL_044.png', '/content/drive/My Drive/Colab Notebooks/cataratas_images/3_retina_disease/Retina_044.png', '/content/drive/My Drive/Colab Notebooks/cataratas_images/2_glaucoma/Glaucoma_073.png', '/content/drive/My Drive/Colab Notebooks/cataratas_images/3_retina_disease/Retina_075.png', '/content/drive/My Drive/Colab Notebooks/cataratas_images/2_cataract/cataract_018.png', '/content/drive/My Drive/Colab Notebooks/cataratas_images/2_cataract/cataract_001.png', '/content/drive/My Drive/Colab Notebooks/cataratas_images/1_normal/NL_200.png', '/content/drive/My Drive/Colab Notebooks/cataratas_images/1_normal/NL_077.png', '/content/drive/My Drive/Colab Notebooks/cataratas_images/3_retina_disease/Retina_033.png', '/content/drive/My Drive/Colab Notebooks/cataratas_images/1_normal/NL_057.png', '/content/drive/My Drive/Colab Notebooks/cataratas_images/1_normal/NL_247.png', '/content/drive/My Drive/Colab Notebooks/cataratas_images/1_normal/NL_045.png', '/content/drive/My Drive/Colab Notebooks/cataratas_images/1_normal/NL_010.png', '/content/drive/My Drive/Colab Notebooks/cataratas_images/2_glaucoma/Glaucoma_033.png', '/content/drive/My Drive/Colab Notebooks/cataratas_images/1_normal/NL_148.png', '/content/drive/My Drive/Colab Notebooks/cataratas_images/2_glaucoma/Glaucoma_061.png', '/content/drive/My Drive/Colab Notebooks/cataratas_images/1_normal/NL_192.png', '/content/drive/My Drive/Colab Notebooks/cataratas_images/1_normal/NL_048.png', '/content/drive/My Drive/Colab Notebooks/cataratas_images/1_normal/NL_050.png', '/content/drive/My Drive/Colab Notebooks/cataratas_images/2_cataract/cataract_094.png', '/content/drive/My Drive/Colab Notebooks/cataratas_images/3_retina_disease/Retina_013.png', '/content/drive/My Drive/Colab Notebooks/cataratas_images/3_retina_disease/Retina_077.png', '/content/drive/My Drive/Colab Notebooks/cataratas_images/2_glaucoma/Glaucoma_064.png', '/content/drive/My Drive/Colab Notebooks/cataratas_images/1_normal/NL_142.png', '/content/drive/My Drive/Colab Notebooks/cataratas_images/2_cataract/cataract_044.png', '/content/drive/My Drive/Colab Notebooks/cataratas_images/1_normal/NL_162.png', '/content/drive/My Drive/Colab Notebooks/cataratas_images/2_glaucoma/Glaucoma_029.png', '/content/drive/My Drive/Colab Notebooks/cataratas_images/2_glaucoma/Glaucoma_096.png', '/content/drive/My Drive/Colab Notebooks/cataratas_images/1_normal/NL_101.png', '/content/drive/My Drive/Colab Notebooks/cataratas_images/2_glaucoma/Glaucoma_076.png', '/content/drive/My Drive/Colab Notebooks/cataratas_images/2_cataract/cataract_034.png', '/content/drive/My Drive/Colab Notebooks/cataratas_images/2_glaucoma/Glaucoma_074.png', '/content/drive/My Drive/Colab Notebooks/cataratas_images/2_glaucoma/Glaucoma_046.png', '/content/drive/My Drive/Colab Notebooks/cataratas_images/1_normal/NL_164.png', '/content/drive/My Drive/Colab Notebooks/cataratas_images/2_cataract/cataract_022.png', '/content/drive/My Drive/Colab Notebooks/cataratas_images/2_glaucoma/Glaucoma_070.png', '/content/drive/My Drive/Colab Notebooks/cataratas_images/2_cataract/cataract_087.png', '/content/drive/My Drive/Colab Notebooks/cataratas_images/1_normal/NL_168.png', '/content/drive/My Drive/Colab Notebooks/cataratas_images/2_cataract/cataract_091.png', '/content/drive/My Drive/Colab Notebooks/cataratas_images/1_normal/NL_100.png', '/content/drive/My Drive/Colab Notebooks/cataratas_images/3_retina_disease/Retina_024.png', '/content/drive/My Drive/Colab Notebooks/cataratas_images/1_normal/NL_158.png', '/content/drive/My Drive/Colab Notebooks/cataratas_images/1_normal/NL_150.png', '/content/drive/My Drive/Colab Notebooks/cataratas_images/1_normal/NL_250.png', '/content/drive/My Drive/Colab Notebooks/cataratas_images/1_normal/NL_182.png', '/content/drive/My Drive/Colab Notebooks/cataratas_images/1_normal/NL_257.png', '/content/drive/My Drive/Colab Notebooks/cataratas_images/3_retina_disease/Retina_059.png', '/content/drive/My Drive/Colab Notebooks/cataratas_images/3_retina_disease/Retina_037.png', '/content/drive/My Drive/Colab Notebooks/cataratas_images/1_normal/NL_096.png', '/content/drive/My Drive/Colab Notebooks/cataratas_images/1_normal/NL_297.png', '/content/drive/My Drive/Colab Notebooks/cataratas_images/1_normal/NL_216.png', '/content/drive/My Drive/Colab Notebooks/cataratas_images/3_retina_disease/Retina_087.png', '/content/drive/My Drive/Colab Notebooks/cataratas_images/1_normal/NL_273.png', '/content/drive/My Drive/Colab Notebooks/cataratas_images/3_retina_disease/Retina_058.png', '/content/drive/My Drive/Colab Notebooks/cataratas_images/1_normal/NL_030.png', '/content/drive/My Drive/Colab Notebooks/cataratas_images/2_glaucoma/Glaucoma_018.png', '/content/drive/My Drive/Colab Notebooks/cataratas_images/2_cataract/cataract_093.png', '/content/drive/My Drive/Colab Notebooks/cataratas_images/1_normal/NL_105.png', '/content/drive/My Drive/Colab Notebooks/cataratas_images/3_retina_disease/Retina_027.png', '/content/drive/My Drive/Colab Notebooks/cataratas_images/2_cataract/cataract_015.png', '/content/drive/My Drive/Colab Notebooks/cataratas_images/3_retina_disease/Retina_035.png', '/content/drive/My Drive/Colab Notebooks/cataratas_images/3_retina_disease/Retina_065.png', '/content/drive/My Drive/Colab Notebooks/cataratas_images/1_normal/NL_106.png', '/content/drive/My Drive/Colab Notebooks/cataratas_images/1_normal/NL_005.png', '/content/drive/My Drive/Colab Notebooks/cataratas_images/2_cataract/cataract_073.png', '/content/drive/My Drive/Colab Notebooks/cataratas_images/2_glaucoma/Glaucoma_090.png', '/content/drive/My Drive/Colab Notebooks/cataratas_images/1_normal/NL_215.png', '/content/drive/My Drive/Colab Notebooks/cataratas_images/1_normal/NL_132.png', '/content/drive/My Drive/Colab Notebooks/cataratas_images/1_normal/NL_149.png', '/content/drive/My Drive/Colab Notebooks/cataratas_images/1_normal/NL_103.png', '/content/drive/My Drive/Colab Notebooks/cataratas_images/2_cataract/cataract_003.png', '/content/drive/My Drive/Colab Notebooks/cataratas_images/1_normal/NL_177.png', '/content/drive/My Drive/Colab Notebooks/cataratas_images/1_normal/NL_028.png', '/content/drive/My Drive/Colab Notebooks/cataratas_images/1_normal/NL_300.png', '/content/drive/My Drive/Colab Notebooks/cataratas_images/1_normal/NL_008.png', '/content/drive/My Drive/Colab Notebooks/cataratas_images/3_retina_disease/Retina_042.png', '/content/drive/My Drive/Colab Notebooks/cataratas_images/3_retina_disease/Retina_076.png', '/content/drive/My Drive/Colab Notebooks/cataratas_images/2_cataract/cataract_071.png', '/content/drive/My Drive/Colab Notebooks/cataratas_images/1_normal/NL_089.png', '/content/drive/My Drive/Colab Notebooks/cataratas_images/1_normal/NL_275.png', '/content/drive/My Drive/Colab Notebooks/cataratas_images/1_normal/NL_070.png', '/content/drive/My Drive/Colab Notebooks/cataratas_images/2_glaucoma/Glaucoma_036.png', '/content/drive/My Drive/Colab Notebooks/cataratas_images/3_retina_disease/Retina_010.png', '/content/drive/My Drive/Colab Notebooks/cataratas_images/1_normal/NL_286.png', '/content/drive/My Drive/Colab Notebooks/cataratas_images/1_normal/NL_006.png', '/content/drive/My Drive/Colab Notebooks/cataratas_images/3_retina_disease/Retina_093.png', '/content/drive/My Drive/Colab Notebooks/cataratas_images/2_cataract/cataract_046.png', '/content/drive/My Drive/Colab Notebooks/cataratas_images/2_cataract/cataract_055.png', '/content/drive/My Drive/Colab Notebooks/cataratas_images/2_glaucoma/Glaucoma_023.png', '/content/drive/My Drive/Colab Notebooks/cataratas_images/1_normal/NL_059.png', '/content/drive/My Drive/Colab Notebooks/cataratas_images/2_glaucoma/Glaucoma_037.png', '/content/drive/My Drive/Colab Notebooks/cataratas_images/1_normal/NL_013.png', '/content/drive/My Drive/Colab Notebooks/cataratas_images/1_normal/NL_007.png', '/content/drive/My Drive/Colab Notebooks/cataratas_images/1_normal/NL_139.png', '/content/drive/My Drive/Colab Notebooks/cataratas_images/1_normal/NL_266.png', '/content/drive/My Drive/Colab Notebooks/cataratas_images/1_normal/NL_042.png', '/content/drive/My Drive/Colab Notebooks/cataratas_images/3_retina_disease/Retina_086.png', '/content/drive/My Drive/Colab Notebooks/cataratas_images/3_retina_disease/Retina_043.png', '/content/drive/My Drive/Colab Notebooks/cataratas_images/1_normal/NL_294.png', '/content/drive/My Drive/Colab Notebooks/cataratas_images/2_cataract/cataract_070.png', '/content/drive/My Drive/Colab Notebooks/cataratas_images/2_cataract/cataract_008.png', '/content/drive/My Drive/Colab Notebooks/cataratas_images/2_cataract/cataract_009.png', '/content/drive/My Drive/Colab Notebooks/cataratas_images/1_normal/NL_037.png', '/content/drive/My Drive/Colab Notebooks/cataratas_images/2_cataract/cataract_010.png', '/content/drive/My Drive/Colab Notebooks/cataratas_images/1_normal/NL_003.png', '/content/drive/My Drive/Colab Notebooks/cataratas_images/3_retina_disease/Retina_002.png', '/content/drive/My Drive/Colab Notebooks/cataratas_images/2_cataract/cataract_058.png', '/content/drive/My Drive/Colab Notebooks/cataratas_images/1_normal/NL_167.png', '/content/drive/My Drive/Colab Notebooks/cataratas_images/3_retina_disease/Retina_079.png', '/content/drive/My Drive/Colab Notebooks/cataratas_images/1_normal/NL_097.png', '/content/drive/My Drive/Colab Notebooks/cataratas_images/3_retina_disease/Retina_062.png', '/content/drive/My Drive/Colab Notebooks/cataratas_images/1_normal/NL_254.png', '/content/drive/My Drive/Colab Notebooks/cataratas_images/2_cataract/cataract_014.png', '/content/drive/My Drive/Colab Notebooks/cataratas_images/1_normal/NL_271.png', '/content/drive/My Drive/Colab Notebooks/cataratas_images/2_glaucoma/Glaucoma_019.png', '/content/drive/My Drive/Colab Notebooks/cataratas_images/2_cataract/cataract_036.png', '/content/drive/My Drive/Colab Notebooks/cataratas_images/3_retina_disease/Retina_083.png', '/content/drive/My Drive/Colab Notebooks/cataratas_images/2_cataract/cataract_082.png', '/content/drive/My Drive/Colab Notebooks/cataratas_images/2_glaucoma/Glaucoma_001.png', '/content/drive/My Drive/Colab Notebooks/cataratas_images/1_normal/NL_226.png', '/content/drive/My Drive/Colab Notebooks/cataratas_images/1_normal/NL_119.png', '/content/drive/My Drive/Colab Notebooks/cataratas_images/3_retina_disease/Retina_056.png', '/content/drive/My Drive/Colab Notebooks/cataratas_images/2_glaucoma/Glaucoma_058.png', '/content/drive/My Drive/Colab Notebooks/cataratas_images/2_glaucoma/Glaucoma_039.png', '/content/drive/My Drive/Colab Notebooks/cataratas_images/1_normal/NL_111.png', '/content/drive/My Drive/Colab Notebooks/cataratas_images/1_normal/NL_230.png', '/content/drive/My Drive/Colab Notebooks/cataratas_images/1_normal/NL_067.png', '/content/drive/My Drive/Colab Notebooks/cataratas_images/1_normal/NL_283.png', '/content/drive/My Drive/Colab Notebooks/cataratas_images/3_retina_disease/Retina_004.png', '/content/drive/My Drive/Colab Notebooks/cataratas_images/1_normal/NL_287.png', '/content/drive/My Drive/Colab Notebooks/cataratas_images/1_normal/NL_189.png', '/content/drive/My Drive/Colab Notebooks/cataratas_images/3_retina_disease/Retina_069.png', '/content/drive/My Drive/Colab Notebooks/cataratas_images/1_normal/NL_179.png', '/content/drive/My Drive/Colab Notebooks/cataratas_images/1_normal/NL_185.png', '/content/drive/My Drive/Colab Notebooks/cataratas_images/2_cataract/cataract_056.png', '/content/drive/My Drive/Colab Notebooks/cataratas_images/1_normal/NL_064.png', '/content/drive/My Drive/Colab Notebooks/cataratas_images/3_retina_disease/Retina_099.png', '/content/drive/My Drive/Colab Notebooks/cataratas_images/1_normal/NL_253.png', '/content/drive/My Drive/Colab Notebooks/cataratas_images/2_glaucoma/Glaucoma_056.png', '/content/drive/My Drive/Colab Notebooks/cataratas_images/2_glaucoma/Glaucoma_063.png', '/content/drive/My Drive/Colab Notebooks/cataratas_images/3_retina_disease/Retina_070.png', '/content/drive/My Drive/Colab Notebooks/cataratas_images/1_normal/NL_029.png', '/content/drive/My Drive/Colab Notebooks/cataratas_images/3_retina_disease/Retina_049.png', '/content/drive/My Drive/Colab Notebooks/cataratas_images/2_glaucoma/Glaucoma_010.png', '/content/drive/My Drive/Colab Notebooks/cataratas_images/1_normal/NL_258.png', '/content/drive/My Drive/Colab Notebooks/cataratas_images/1_normal/NL_195.png', '/content/drive/My Drive/Colab Notebooks/cataratas_images/1_normal/NL_234.png', '/content/drive/My Drive/Colab Notebooks/cataratas_images/1_normal/NL_026.png', '/content/drive/My Drive/Colab Notebooks/cataratas_images/2_cataract/cataract_019.png', '/content/drive/My Drive/Colab Notebooks/cataratas_images/1_normal/NL_237.png', '/content/drive/My Drive/Colab Notebooks/cataratas_images/3_retina_disease/Retina_081.png', '/content/drive/My Drive/Colab Notebooks/cataratas_images/1_normal/NL_133.png', '/content/drive/My Drive/Colab Notebooks/cataratas_images/2_cataract/cataract_078.png', '/content/drive/My Drive/Colab Notebooks/cataratas_images/1_normal/NL_196.png', '/content/drive/My Drive/Colab Notebooks/cataratas_images/2_cataract/cataract_039.png', '/content/drive/My Drive/Colab Notebooks/cataratas_images/2_cataract/cataract_011.png', '/content/drive/My Drive/Colab Notebooks/cataratas_images/2_glaucoma/Glaucoma_027.png', '/content/drive/My Drive/Colab Notebooks/cataratas_images/2_cataract/cataract_063.png', '/content/drive/My Drive/Colab Notebooks/cataratas_images/1_normal/NL_219.png', '/content/drive/My Drive/Colab Notebooks/cataratas_images/1_normal/NL_259.png', '/content/drive/My Drive/Colab Notebooks/cataratas_images/1_normal/NL_214.png', '/content/drive/My Drive/Colab Notebooks/cataratas_images/2_cataract/cataract_030.png', '/content/drive/My Drive/Colab Notebooks/cataratas_images/2_glaucoma/Glaucoma_006.png', '/content/drive/My Drive/Colab Notebooks/cataratas_images/1_normal/NL_262.png', '/content/drive/My Drive/Colab Notebooks/cataratas_images/2_glaucoma/Glaucoma_035.png', '/content/drive/My Drive/Colab Notebooks/cataratas_images/1_normal/NL_173.png', '/content/drive/My Drive/Colab Notebooks/cataratas_images/1_normal/NL_038.png', '/content/drive/My Drive/Colab Notebooks/cataratas_images/1_normal/NL_075.png', '/content/drive/My Drive/Colab Notebooks/cataratas_images/1_normal/NL_280.png', '/content/drive/My Drive/Colab Notebooks/cataratas_images/1_normal/NL_056.png', '/content/drive/My Drive/Colab Notebooks/cataratas_images/2_cataract/cataract_079.png', '/content/drive/My Drive/Colab Notebooks/cataratas_images/2_glaucoma/Glaucoma_013.png', '/content/drive/My Drive/Colab Notebooks/cataratas_images/1_normal/NL_053.png', '/content/drive/My Drive/Colab Notebooks/cataratas_images/2_cataract/cataract_097.png', '/content/drive/My Drive/Colab Notebooks/cataratas_images/2_cataract/cataract_066.png', '/content/drive/My Drive/Colab Notebooks/cataratas_images/1_normal/NL_125.png', '/content/drive/My Drive/Colab Notebooks/cataratas_images/1_normal/NL_272.png', '/content/drive/My Drive/Colab Notebooks/cataratas_images/1_normal/NL_245.png', '/content/drive/My Drive/Colab Notebooks/cataratas_images/2_glaucoma/Glaucoma_097.png', '/content/drive/My Drive/Colab Notebooks/cataratas_images/1_normal/NL_191.png', '/content/drive/My Drive/Colab Notebooks/cataratas_images/2_cataract/cataract_072.png', '/content/drive/My Drive/Colab Notebooks/cataratas_images/1_normal/NL_126.png', '/content/drive/My Drive/Colab Notebooks/cataratas_images/1_normal/NL_017.png', '/content/drive/My Drive/Colab Notebooks/cataratas_images/1_normal/NL_176.png', '/content/drive/My Drive/Colab Notebooks/cataratas_images/2_glaucoma/Glaucoma_040.png', '/content/drive/My Drive/Colab Notebooks/cataratas_images/1_normal/NL_290.png', '/content/drive/My Drive/Colab Notebooks/cataratas_images/1_normal/NL_165.png', '/content/drive/My Drive/Colab Notebooks/cataratas_images/3_retina_disease/Retina_034.png', '/content/drive/My Drive/Colab Notebooks/cataratas_images/2_glaucoma/Glaucoma_050.png', '/content/drive/My Drive/Colab Notebooks/cataratas_images/2_glaucoma/Glaucoma_054.png', '/content/drive/My Drive/Colab Notebooks/cataratas_images/1_normal/NL_147.png', '/content/drive/My Drive/Colab Notebooks/cataratas_images/2_glaucoma/Glaucoma_047.png', '/content/drive/My Drive/Colab Notebooks/cataratas_images/3_retina_disease/Retina_012.png', '/content/drive/My Drive/Colab Notebooks/cataratas_images/2_cataract/cataract_024.png', '/content/drive/My Drive/Colab Notebooks/cataratas_images/1_normal/NL_231.png', '/content/drive/My Drive/Colab Notebooks/cataratas_images/1_normal/NL_218.png', '/content/drive/My Drive/Colab Notebooks/cataratas_images/1_normal/NL_127.png', '/content/drive/My Drive/Colab Notebooks/cataratas_images/2_cataract/cataract_045.png', '/content/drive/My Drive/Colab Notebooks/cataratas_images/2_glaucoma/Glaucoma_098.png', '/content/drive/My Drive/Colab Notebooks/cataratas_images/1_normal/NL_202.png', '/content/drive/My Drive/Colab Notebooks/cataratas_images/1_normal/NL_086.png', '/content/drive/My Drive/Colab Notebooks/cataratas_images/1_normal/NL_197.png', '/content/drive/My Drive/Colab Notebooks/cataratas_images/2_glaucoma/Glaucoma_093.png', '/content/drive/My Drive/Colab Notebooks/cataratas_images/1_normal/NL_004.png', '/content/drive/My Drive/Colab Notebooks/cataratas_images/1_normal/NL_081.png', '/content/drive/My Drive/Colab Notebooks/cataratas_images/2_cataract/cataract_052.png', '/content/drive/My Drive/Colab Notebooks/cataratas_images/3_retina_disease/Retina_023.png', '/content/drive/My Drive/Colab Notebooks/cataratas_images/2_cataract/cataract_028.png', '/content/drive/My Drive/Colab Notebooks/cataratas_images/2_cataract/cataract_017.png', '/content/drive/My Drive/Colab Notebooks/cataratas_images/3_retina_disease/Retina_009.png', '/content/drive/My Drive/Colab Notebooks/cataratas_images/1_normal/NL_163.png', '/content/drive/My Drive/Colab Notebooks/cataratas_images/1_normal/NL_288.png', '/content/drive/My Drive/Colab Notebooks/cataratas_images/2_glaucoma/Glaucoma_062.png', '/content/drive/My Drive/Colab Notebooks/cataratas_images/1_normal/NL_063.png', '/content/drive/My Drive/Colab Notebooks/cataratas_images/3_retina_disease/Retina_016.png', '/content/drive/My Drive/Colab Notebooks/cataratas_images/1_normal/NL_046.png', '/content/drive/My Drive/Colab Notebooks/cataratas_images/3_retina_disease/Retina_005.png', '/content/drive/My Drive/Colab Notebooks/cataratas_images/3_retina_disease/Retina_064.png', '/content/drive/My Drive/Colab Notebooks/cataratas_images/2_glaucoma/Glaucoma_049.png', '/content/drive/My Drive/Colab Notebooks/cataratas_images/1_normal/NL_252.png', '/content/drive/My Drive/Colab Notebooks/cataratas_images/3_retina_disease/Retina_028.png', '/content/drive/My Drive/Colab Notebooks/cataratas_images/2_glaucoma/Glaucoma_091.png', '/content/drive/My Drive/Colab Notebooks/cataratas_images/2_cataract/cataract_027.png', '/content/drive/My Drive/Colab Notebooks/cataratas_images/1_normal/NL_072.png', '/content/drive/My Drive/Colab Notebooks/cataratas_images/1_normal/NL_276.png', '/content/drive/My Drive/Colab Notebooks/cataratas_images/2_cataract/cataract_041.png', '/content/drive/My Drive/Colab Notebooks/cataratas_images/1_normal/NL_088.png', '/content/drive/My Drive/Colab Notebooks/cataratas_images/2_cataract/cataract_067.png', '/content/drive/My Drive/Colab Notebooks/cataratas_images/1_normal/NL_022.png', '/content/drive/My Drive/Colab Notebooks/cataratas_images/1_normal/NL_232.png', '/content/drive/My Drive/Colab Notebooks/cataratas_images/1_normal/NL_251.png', '/content/drive/My Drive/Colab Notebooks/cataratas_images/2_glaucoma/Glaucoma_066.png', '/content/drive/My Drive/Colab Notebooks/cataratas_images/2_cataract/cataract_021.png', '/content/drive/My Drive/Colab Notebooks/cataratas_images/3_retina_disease/Retina_054.png', '/content/drive/My Drive/Colab Notebooks/cataratas_images/1_normal/NL_249.png', '/content/drive/My Drive/Colab Notebooks/cataratas_images/1_normal/NL_039.png', '/content/drive/My Drive/Colab Notebooks/cataratas_images/1_normal/NL_062.png', '/content/drive/My Drive/Colab Notebooks/cataratas_images/1_normal/NL_169.png', '/content/drive/My Drive/Colab Notebooks/cataratas_images/3_retina_disease/Retina_031.png', '/content/drive/My Drive/Colab Notebooks/cataratas_images/3_retina_disease/Retina_084.png', '/content/drive/My Drive/Colab Notebooks/cataratas_images/2_glaucoma/Glaucoma_034.png', '/content/drive/My Drive/Colab Notebooks/cataratas_images/1_normal/NL_112.png', '/content/drive/My Drive/Colab Notebooks/cataratas_images/2_glaucoma/Glaucoma_069.png', '/content/drive/My Drive/Colab Notebooks/cataratas_images/1_normal/NL_205.png', '/content/drive/My Drive/Colab Notebooks/cataratas_images/2_glaucoma/Glaucoma_077.png', '/content/drive/My Drive/Colab Notebooks/cataratas_images/2_glaucoma/Glaucoma_053.png', '/content/drive/My Drive/Colab Notebooks/cataratas_images/2_cataract/cataract_062.png', '/content/drive/My Drive/Colab Notebooks/cataratas_images/1_normal/NL_047.png', '/content/drive/My Drive/Colab Notebooks/cataratas_images/3_retina_disease/Retina_089.png', '/content/drive/My Drive/Colab Notebooks/cataratas_images/2_cataract/cataract_042.png', '/content/drive/My Drive/Colab Notebooks/cataratas_images/3_retina_disease/Retina_060.png', '/content/drive/My Drive/Colab Notebooks/cataratas_images/1_normal/NL_117.png', '/content/drive/My Drive/Colab Notebooks/cataratas_images/2_cataract/cataract_059.png', '/content/drive/My Drive/Colab Notebooks/cataratas_images/2_cataract/cataract_054.png', '/content/drive/My Drive/Colab Notebooks/cataratas_images/1_normal/NL_040.png', '/content/drive/My Drive/Colab Notebooks/cataratas_images/2_glaucoma/Glaucoma_055.png', '/content/drive/My Drive/Colab Notebooks/cataratas_images/2_cataract/cataract_035.png', '/content/drive/My Drive/Colab Notebooks/cataratas_images/2_cataract/cataract_086.png', '/content/drive/My Drive/Colab Notebooks/cataratas_images/1_normal/NL_015.png', '/content/drive/My Drive/Colab Notebooks/cataratas_images/2_cataract/cataract_020.png', '/content/drive/My Drive/Colab Notebooks/cataratas_images/3_retina_disease/Retina_053.png', '/content/drive/My Drive/Colab Notebooks/cataratas_images/1_normal/NL_143.png', '/content/drive/My Drive/Colab Notebooks/cataratas_images/2_cataract/cataract_047.png', '/content/drive/My Drive/Colab Notebooks/cataratas_images/1_normal/NL_298.png', '/content/drive/My Drive/Colab Notebooks/cataratas_images/3_retina_disease/Retina_036.png', '/content/drive/My Drive/Colab Notebooks/cataratas_images/1_normal/NL_159.png', '/content/drive/My Drive/Colab Notebooks/cataratas_images/1_normal/NL_122.png', '/content/drive/My Drive/Colab Notebooks/cataratas_images/2_cataract/cataract_081.png', '/content/drive/My Drive/Colab Notebooks/cataratas_images/2_glaucoma/Glaucoma_031.png', '/content/drive/My Drive/Colab Notebooks/cataratas_images/2_cataract/cataract_064.png', '/content/drive/My Drive/Colab Notebooks/cataratas_images/1_normal/NL_080.png', '/content/drive/My Drive/Colab Notebooks/cataratas_images/1_normal/NL_210.png', '/content/drive/My Drive/Colab Notebooks/cataratas_images/2_glaucoma/Glaucoma_016.png', '/content/drive/My Drive/Colab Notebooks/cataratas_images/2_glaucoma/Glaucoma_026.png', '/content/drive/My Drive/Colab Notebooks/cataratas_images/2_cataract/cataract_038.png', '/content/drive/My Drive/Colab Notebooks/cataratas_images/1_normal/NL_058.png', '/content/drive/My Drive/Colab Notebooks/cataratas_images/1_normal/NL_204.png', '/content/drive/My Drive/Colab Notebooks/cataratas_images/3_retina_disease/Retina_029.png', '/content/drive/My Drive/Colab Notebooks/cataratas_images/1_normal/NL_155.png', '/content/drive/My Drive/Colab Notebooks/cataratas_images/1_normal/NL_171.png', '/content/drive/My Drive/Colab Notebooks/cataratas_images/1_normal/NL_246.png', '/content/drive/My Drive/Colab Notebooks/cataratas_images/2_glaucoma/Glaucoma_101.png', '/content/drive/My Drive/Colab Notebooks/cataratas_images/2_cataract/cataract_049.png', '/content/drive/My Drive/Colab Notebooks/cataratas_images/1_normal/NL_248.png', '/content/drive/My Drive/Colab Notebooks/cataratas_images/1_normal/NL_293.png', '/content/drive/My Drive/Colab Notebooks/cataratas_images/2_glaucoma/Glaucoma_025.png', '/content/drive/My Drive/Colab Notebooks/cataratas_images/2_cataract/cataract_026.png', '/content/drive/My Drive/Colab Notebooks/cataratas_images/1_normal/NL_172.png', '/content/drive/My Drive/Colab Notebooks/cataratas_images/3_retina_disease/Retina_045.png', '/content/drive/My Drive/Colab Notebooks/cataratas_images/3_retina_disease/Retina_067.png', '/content/drive/My Drive/Colab Notebooks/cataratas_images/1_normal/NL_270.png', '/content/drive/My Drive/Colab Notebooks/cataratas_images/2_cataract/cataract_090.png', '/content/drive/My Drive/Colab Notebooks/cataratas_images/2_glaucoma/Glaucoma_015.png', '/content/drive/My Drive/Colab Notebooks/cataratas_images/3_retina_disease/Retina_019.png', '/content/drive/My Drive/Colab Notebooks/cataratas_images/1_normal/NL_289.png', '/content/drive/My Drive/Colab Notebooks/cataratas_images/1_normal/NL_208.png', '/content/drive/My Drive/Colab Notebooks/cataratas_images/1_normal/NL_094.png', '/content/drive/My Drive/Colab Notebooks/cataratas_images/1_normal/NL_079.png', '/content/drive/My Drive/Colab Notebooks/cataratas_images/1_normal/NL_186.png', '/content/drive/My Drive/Colab Notebooks/cataratas_images/1_normal/NL_225.png', '/content/drive/My Drive/Colab Notebooks/cataratas_images/1_normal/NL_180.png', '/content/drive/My Drive/Colab Notebooks/cataratas_images/2_cataract/cataract_032.png', '/content/drive/My Drive/Colab Notebooks/cataratas_images/1_normal/NL_084.png', '/content/drive/My Drive/Colab Notebooks/cataratas_images/1_normal/NL_098.png', '/content/drive/My Drive/Colab Notebooks/cataratas_images/2_cataract/cataract_050.png', '/content/drive/My Drive/Colab Notebooks/cataratas_images/3_retina_disease/Retina_011.png', '/content/drive/My Drive/Colab Notebooks/cataratas_images/1_normal/NL_123.png', '/content/drive/My Drive/Colab Notebooks/cataratas_images/1_normal/NL_021.png', '/content/drive/My Drive/Colab Notebooks/cataratas_images/2_glaucoma/Glaucoma_089.png', '/content/drive/My Drive/Colab Notebooks/cataratas_images/1_normal/NL_217.png', '/content/drive/My Drive/Colab Notebooks/cataratas_images/2_glaucoma/Glaucoma_044.png', '/content/drive/My Drive/Colab Notebooks/cataratas_images/2_cataract/cataract_083.png', '/content/drive/My Drive/Colab Notebooks/cataratas_images/1_normal/NL_282.png', '/content/drive/My Drive/Colab Notebooks/cataratas_images/1_normal/NL_023.png', '/content/drive/My Drive/Colab Notebooks/cataratas_images/2_cataract/cataract_088.png', '/content/drive/My Drive/Colab Notebooks/cataratas_images/1_normal/NL_043.png', '/content/drive/My Drive/Colab Notebooks/cataratas_images/1_normal/NL_076.png', '/content/drive/My Drive/Colab Notebooks/cataratas_images/1_normal/NL_221.png', '/content/drive/My Drive/Colab Notebooks/cataratas_images/2_cataract/cataract_080.png', '/content/drive/My Drive/Colab Notebooks/cataratas_images/2_glaucoma/Glaucoma_030.png', '/content/drive/My Drive/Colab Notebooks/cataratas_images/1_normal/NL_078.png', '/content/drive/My Drive/Colab Notebooks/cataratas_images/1_normal/NL_194.png', '/content/drive/My Drive/Colab Notebooks/cataratas_images/2_glaucoma/Glaucoma_081.png', '/content/drive/My Drive/Colab Notebooks/cataratas_images/2_cataract/cataract_096.png', '/content/drive/My Drive/Colab Notebooks/cataratas_images/1_normal/NL_033.png', '/content/drive/My Drive/Colab Notebooks/cataratas_images/1_normal/NL_109.png', '/content/drive/My Drive/Colab Notebooks/cataratas_images/1_normal/NL_108.png', '/content/drive/My Drive/Colab Notebooks/cataratas_images/3_retina_disease/Retina_057.png', '/content/drive/My Drive/Colab Notebooks/cataratas_images/2_cataract/cataract_005.png', '/content/drive/My Drive/Colab Notebooks/cataratas_images/2_glaucoma/Glaucoma_071.png', '/content/drive/My Drive/Colab Notebooks/cataratas_images/2_glaucoma/Glaucoma_086.png', '/content/drive/My Drive/Colab Notebooks/cataratas_images/1_normal/NL_020.png', '/content/drive/My Drive/Colab Notebooks/cataratas_images/2_glaucoma/Glaucoma_084.png', '/content/drive/My Drive/Colab Notebooks/cataratas_images/3_retina_disease/Retina_061.png', '/content/drive/My Drive/Colab Notebooks/cataratas_images/3_retina_disease/Retina_066.png', '/content/drive/My Drive/Colab Notebooks/cataratas_images/3_retina_disease/Retina_090.png', '/content/drive/My Drive/Colab Notebooks/cataratas_images/1_normal/NL_114.png', '/content/drive/My Drive/Colab Notebooks/cataratas_images/1_normal/NL_128.png', '/content/drive/My Drive/Colab Notebooks/cataratas_images/3_retina_disease/Retina_080.png', '/content/drive/My Drive/Colab Notebooks/cataratas_images/2_cataract/cataract_068.png', '/content/drive/My Drive/Colab Notebooks/cataratas_images/1_normal/NL_061.png', '/content/drive/My Drive/Colab Notebooks/cataratas_images/3_retina_disease/Retina_051.png', '/content/drive/My Drive/Colab Notebooks/cataratas_images/3_retina_disease/Retina_096.png', '/content/drive/My Drive/Colab Notebooks/cataratas_images/3_retina_disease/Retina_015.png', '/content/drive/My Drive/Colab Notebooks/cataratas_images/1_normal/NL_116.png', '/content/drive/My Drive/Colab Notebooks/cataratas_images/3_retina_disease/Retina_014.png', '/content/drive/My Drive/Colab Notebooks/cataratas_images/1_normal/NL_278.png', '/content/drive/My Drive/Colab Notebooks/cataratas_images/1_normal/NL_201.png', '/content/drive/My Drive/Colab Notebooks/cataratas_images/2_glaucoma/Glaucoma_022.png', '/content/drive/My Drive/Colab Notebooks/cataratas_images/1_normal/NL_068.png', '/content/drive/My Drive/Colab Notebooks/cataratas_images/1_normal/NL_220.png', '/content/drive/My Drive/Colab Notebooks/cataratas_images/1_normal/NL_018.png', '/content/drive/My Drive/Colab Notebooks/cataratas_images/1_normal/NL_269.png', '/content/drive/My Drive/Colab Notebooks/cataratas_images/2_glaucoma/Glaucoma_085.png', '/content/drive/My Drive/Colab Notebooks/cataratas_images/2_cataract/cataract_025.png', '/content/drive/My Drive/Colab Notebooks/cataratas_images/2_glaucoma/Glaucoma_100.png', '/content/drive/My Drive/Colab Notebooks/cataratas_images/1_normal/NL_060.png', '/content/drive/My Drive/Colab Notebooks/cataratas_images/1_normal/NL_110.png', '/content/drive/My Drive/Colab Notebooks/cataratas_images/1_normal/NL_025.png', '/content/drive/My Drive/Colab Notebooks/cataratas_images/3_retina_disease/Retina_039.png', '/content/drive/My Drive/Colab Notebooks/cataratas_images/1_normal/NL_207.png', '/content/drive/My Drive/Colab Notebooks/cataratas_images/1_normal/NL_055.png', '/content/drive/My Drive/Colab Notebooks/cataratas_images/1_normal/NL_151.png', '/content/drive/My Drive/Colab Notebooks/cataratas_images/1_normal/NL_213.png', '/content/drive/My Drive/Colab Notebooks/cataratas_images/1_normal/NL_041.png', '/content/drive/My Drive/Colab Notebooks/cataratas_images/1_normal/NL_054.png', '/content/drive/My Drive/Colab Notebooks/cataratas_images/2_cataract/cataract_013.png', '/content/drive/My Drive/Colab Notebooks/cataratas_images/1_normal/NL_209.png', '/content/drive/My Drive/Colab Notebooks/cataratas_images/1_normal/NL_140.png', '/content/drive/My Drive/Colab Notebooks/cataratas_images/3_retina_disease/Retina_017.png', '/content/drive/My Drive/Colab Notebooks/cataratas_images/3_retina_disease/Retina_026.png', '/content/drive/My Drive/Colab Notebooks/cataratas_images/2_glaucoma/Glaucoma_052.png', '/content/drive/My Drive/Colab Notebooks/cataratas_images/1_normal/NL_184.png', '/content/drive/My Drive/Colab Notebooks/cataratas_images/2_glaucoma/Glaucoma_014.png', '/content/drive/My Drive/Colab Notebooks/cataratas_images/3_retina_disease/Retina_074.png', '/content/drive/My Drive/Colab Notebooks/cataratas_images/1_normal/NL_255.png', '/content/drive/My Drive/Colab Notebooks/cataratas_images/1_normal/NL_235.png', '/content/drive/My Drive/Colab Notebooks/cataratas_images/1_normal/NL_074.png', '/content/drive/My Drive/Colab Notebooks/cataratas_images/2_glaucoma/Glaucoma_082.png', '/content/drive/My Drive/Colab Notebooks/cataratas_images/1_normal/NL_146.png', '/content/drive/My Drive/Colab Notebooks/cataratas_images/2_cataract/cataract_040.png', '/content/drive/My Drive/Colab Notebooks/cataratas_images/3_retina_disease/Retina_030.png', '/content/drive/My Drive/Colab Notebooks/cataratas_images/2_glaucoma/Glaucoma_003.png', '/content/drive/My Drive/Colab Notebooks/cataratas_images/1_normal/NL_224.png', '/content/drive/My Drive/Colab Notebooks/cataratas_images/2_glaucoma/Glaucoma_067.png', '/content/drive/My Drive/Colab Notebooks/cataratas_images/1_normal/NL_229.png', '/content/drive/My Drive/Colab Notebooks/cataratas_images/1_normal/NL_051.png', '/content/drive/My Drive/Colab Notebooks/cataratas_images/1_normal/NL_265.png', '/content/drive/My Drive/Colab Notebooks/cataratas_images/1_normal/NL_267.png', '/content/drive/My Drive/Colab Notebooks/cataratas_images/2_glaucoma/Glaucoma_083.png', '/content/drive/My Drive/Colab Notebooks/cataratas_images/1_normal/NL_199.png', '/content/drive/My Drive/Colab Notebooks/cataratas_images/2_cataract/cataract_016.png', '/content/drive/My Drive/Colab Notebooks/cataratas_images/2_cataract/cataract_099.png', '/content/drive/My Drive/Colab Notebooks/cataratas_images/1_normal/NL_193.png', '/content/drive/My Drive/Colab Notebooks/cataratas_images/2_glaucoma/Glaucoma_099.png', '/content/drive/My Drive/Colab Notebooks/cataratas_images/1_normal/NL_161.png', '/content/drive/My Drive/Colab Notebooks/cataratas_images/1_normal/NL_138.png', '/content/drive/My Drive/Colab Notebooks/cataratas_images/2_cataract/cataract_077.png', '/content/drive/My Drive/Colab Notebooks/cataratas_images/1_normal/NL_238.png', '/content/drive/My Drive/Colab Notebooks/cataratas_images/3_retina_disease/Retina_097.png', '/content/drive/My Drive/Colab Notebooks/cataratas_images/2_cataract/cataract_023.png', '/content/drive/My Drive/Colab Notebooks/cataratas_images/2_glaucoma/Glaucoma_078.png', '/content/drive/My Drive/Colab Notebooks/cataratas_images/1_normal/NL_118.png', '/content/drive/My Drive/Colab Notebooks/cataratas_images/1_normal/NL_268.png', '/content/drive/My Drive/Colab Notebooks/cataratas_images/3_retina_disease/Retina_048.png', '/content/drive/My Drive/Colab Notebooks/cataratas_images/1_normal/NL_091.png', '/content/drive/My Drive/Colab Notebooks/cataratas_images/2_glaucoma/Glaucoma_060.png', '/content/drive/My Drive/Colab Notebooks/cataratas_images/1_normal/NL_083.png', '/content/drive/My Drive/Colab Notebooks/cataratas_images/2_glaucoma/Glaucoma_011.png', '/content/drive/My Drive/Colab Notebooks/cataratas_images/2_cataract/cataract_033.png', '/content/drive/My Drive/Colab Notebooks/cataratas_images/2_glaucoma/Glaucoma_059.png', '/content/drive/My Drive/Colab Notebooks/cataratas_images/3_retina_disease/Retina_040.png', '/content/drive/My Drive/Colab Notebooks/cataratas_images/3_retina_disease/Retina_082.png', '/content/drive/My Drive/Colab Notebooks/cataratas_images/1_normal/NL_032.png', '/content/drive/My Drive/Colab Notebooks/cataratas_images/1_normal/NL_085.png', '/content/drive/My Drive/Colab Notebooks/cataratas_images/2_glaucoma/Glaucoma_041.png', '/content/drive/My Drive/Colab Notebooks/cataratas_images/1_normal/NL_087.png', '/content/drive/My Drive/Colab Notebooks/cataratas_images/1_normal/NL_183.png', '/content/drive/My Drive/Colab Notebooks/cataratas_images/3_retina_disease/Retina_055.png', '/content/drive/My Drive/Colab Notebooks/cataratas_images/2_glaucoma/Glaucoma_005.png', '/content/drive/My Drive/Colab Notebooks/cataratas_images/1_normal/NL_181.png', '/content/drive/My Drive/Colab Notebooks/cataratas_images/1_normal/NL_157.png', '/content/drive/My Drive/Colab Notebooks/cataratas_images/1_normal/NL_121.png', '/content/drive/My Drive/Colab Notebooks/cataratas_images/1_normal/NL_285.png', '/content/drive/My Drive/Colab Notebooks/cataratas_images/1_normal/NL_031.png', '/content/drive/My Drive/Colab Notebooks/cataratas_images/3_retina_disease/Retina_038.png', '/content/drive/My Drive/Colab Notebooks/cataratas_images/1_normal/NL_090.png', '/content/drive/My Drive/Colab Notebooks/cataratas_images/3_retina_disease/Retina_063.png', '/content/drive/My Drive/Colab Notebooks/cataratas_images/1_normal/NL_099.png', '/content/drive/My Drive/Colab Notebooks/cataratas_images/1_normal/NL_011.png', '/content/drive/My Drive/Colab Notebooks/cataratas_images/2_cataract/cataract_002.png', '/content/drive/My Drive/Colab Notebooks/cataratas_images/1_normal/NL_153.png', '/content/drive/My Drive/Colab Notebooks/cataratas_images/2_glaucoma/Glaucoma_007.png', '/content/drive/My Drive/Colab Notebooks/cataratas_images/3_retina_disease/Retina_088.png', '/content/drive/My Drive/Colab Notebooks/cataratas_images/2_cataract/cataract_065.png', '/content/drive/My Drive/Colab Notebooks/cataratas_images/1_normal/NL_144.png', '/content/drive/My Drive/Colab Notebooks/cataratas_images/1_normal/NL_260.png', '/content/drive/My Drive/Colab Notebooks/cataratas_images/1_normal/NL_019.png', '/content/drive/My Drive/Colab Notebooks/cataratas_images/1_normal/NL_027.png', '/content/drive/My Drive/Colab Notebooks/cataratas_images/2_glaucoma/Glaucoma_065.png', '/content/drive/My Drive/Colab Notebooks/cataratas_images/1_normal/NL_120.png', '/content/drive/My Drive/Colab Notebooks/cataratas_images/3_retina_disease/Retina_018.png', '/content/drive/My Drive/Colab Notebooks/cataratas_images/3_retina_disease/Retina_003.png', '/content/drive/My Drive/Colab Notebooks/cataratas_images/2_cataract/cataract_069.png', '/content/drive/My Drive/Colab Notebooks/cataratas_images/3_retina_disease/Retina_068.png', '/content/drive/My Drive/Colab Notebooks/cataratas_images/1_normal/NL_092.png', '/content/drive/My Drive/Colab Notebooks/cataratas_images/1_normal/NL_299.png', '/content/drive/My Drive/Colab Notebooks/cataratas_images/1_normal/NL_016.png', '/content/drive/My Drive/Colab Notebooks/cataratas_images/2_cataract/cataract_037.png', '/content/drive/My Drive/Colab Notebooks/cataratas_images/2_glaucoma/Glaucoma_021.png', '/content/drive/My Drive/Colab Notebooks/cataratas_images/2_glaucoma/Glaucoma_038.png', '/content/drive/My Drive/Colab Notebooks/cataratas_images/2_glaucoma/Glaucoma_004.png', '/content/drive/My Drive/Colab Notebooks/cataratas_images/1_normal/NL_115.png', '/content/drive/My Drive/Colab Notebooks/cataratas_images/1_normal/NL_178.png', '/content/drive/My Drive/Colab Notebooks/cataratas_images/2_glaucoma/Glaucoma_087.png', '/content/drive/My Drive/Colab Notebooks/cataratas_images/2_glaucoma/Glaucoma_051.png', '/content/drive/My Drive/Colab Notebooks/cataratas_images/1_normal/NL_124.png', '/content/drive/My Drive/Colab Notebooks/cataratas_images/1_normal/NL_001.png', '/content/drive/My Drive/Colab Notebooks/cataratas_images/1_normal/NL_296.png', '/content/drive/My Drive/Colab Notebooks/cataratas_images/1_normal/NL_281.png', '/content/drive/My Drive/Colab Notebooks/cataratas_images/1_normal/NL_009.png', '/content/drive/My Drive/Colab Notebooks/cataratas_images/3_retina_disease/Retina_021.png', '/content/drive/My Drive/Colab Notebooks/cataratas_images/3_retina_disease/Retina_073.png', '/content/drive/My Drive/Colab Notebooks/cataratas_images/1_normal/NL_240.png', '/content/drive/My Drive/Colab Notebooks/cataratas_images/1_normal/NL_277.png', '/content/drive/My Drive/Colab Notebooks/cataratas_images/1_normal/NL_292.png', '/content/drive/My Drive/Colab Notebooks/cataratas_images/2_glaucoma/Glaucoma_020.png', '/content/drive/My Drive/Colab Notebooks/cataratas_images/1_normal/NL_113.png', '/content/drive/My Drive/Colab Notebooks/cataratas_images/3_retina_disease/Retina_050.png', '/content/drive/My Drive/Colab Notebooks/cataratas_images/1_normal/NL_034.png', '/content/drive/My Drive/Colab Notebooks/cataratas_images/2_cataract/cataract_084.png', '/content/drive/My Drive/Colab Notebooks/cataratas_images/1_normal/NL_244.png', '/content/drive/My Drive/Colab Notebooks/cataratas_images/2_glaucoma/Glaucoma_017.png', '/content/drive/My Drive/Colab Notebooks/cataratas_images/1_normal/NL_065.png', '/content/drive/My Drive/Colab Notebooks/cataratas_images/1_normal/NL_284.png', '/content/drive/My Drive/Colab Notebooks/cataratas_images/1_normal/NL_187.png', '/content/drive/My Drive/Colab Notebooks/cataratas_images/3_retina_disease/Retina_098.png', '/content/drive/My Drive/Colab Notebooks/cataratas_images/1_normal/NL_190.png', '/content/drive/My Drive/Colab Notebooks/cataratas_images/1_normal/NL_228.png', '/content/drive/My Drive/Colab Notebooks/cataratas_images/1_normal/NL_242.png', '/content/drive/My Drive/Colab Notebooks/cataratas_images/1_normal/NL_175.png', '/content/drive/My Drive/Colab Notebooks/cataratas_images/3_retina_disease/Retina_091.png', '/content/drive/My Drive/Colab Notebooks/cataratas_images/3_retina_disease/Retina_085.png', '/content/drive/My Drive/Colab Notebooks/cataratas_images/3_retina_disease/Retina_007.png', '/content/drive/My Drive/Colab Notebooks/cataratas_images/1_normal/NL_227.png', '/content/drive/My Drive/Colab Notebooks/cataratas_images/3_retina_disease/Retina_071.png', '/content/drive/My Drive/Colab Notebooks/cataratas_images/3_retina_disease/Retina_047.png', '/content/drive/My Drive/Colab Notebooks/cataratas_images/2_cataract/cataract_100.png', '/content/drive/My Drive/Colab Notebooks/cataratas_images/1_normal/NL_130.png', '/content/drive/My Drive/Colab Notebooks/cataratas_images/1_normal/NL_212.png', '/content/drive/My Drive/Colab Notebooks/cataratas_images/1_normal/NL_137.png', '/content/drive/My Drive/Colab Notebooks/cataratas_images/2_cataract/cataract_007.png', '/content/drive/My Drive/Colab Notebooks/cataratas_images/3_retina_disease/Retina_001.png', '/content/drive/My Drive/Colab Notebooks/cataratas_images/2_glaucoma/Glaucoma_045.png', '/content/drive/My Drive/Colab Notebooks/cataratas_images/2_cataract/cataract_043.png', '/content/drive/My Drive/Colab Notebooks/cataratas_images/3_retina_disease/Retina_078.png', '/content/drive/My Drive/Colab Notebooks/cataratas_images/2_glaucoma/Glaucoma_068.png', '/content/drive/My Drive/Colab Notebooks/cataratas_images/2_cataract/cataract_085.png', '/content/drive/My Drive/Colab Notebooks/cataratas_images/3_retina_disease/Retina_095.png', '/content/drive/My Drive/Colab Notebooks/cataratas_images/1_normal/NL_154.png', '/content/drive/My Drive/Colab Notebooks/cataratas_images/1_normal/NL_241.png', '/content/drive/My Drive/Colab Notebooks/cataratas_images/1_normal/NL_166.png', '/content/drive/My Drive/Colab Notebooks/cataratas_images/1_normal/NL_264.png', '/content/drive/My Drive/Colab Notebooks/cataratas_images/1_normal/NL_174.png', '/content/drive/My Drive/Colab Notebooks/cataratas_images/2_glaucoma/Glaucoma_012.png', '/content/drive/My Drive/Colab Notebooks/cataratas_images/1_normal/NL_236.png', '/content/drive/My Drive/Colab Notebooks/cataratas_images/1_normal/NL_291.png', '/content/drive/My Drive/Colab Notebooks/cataratas_images/1_normal/NL_263.png', '/content/drive/My Drive/Colab Notebooks/cataratas_images/1_normal/NL_135.png', '/content/drive/My Drive/Colab Notebooks/cataratas_images/2_cataract/cataract_048.png', '/content/drive/My Drive/Colab Notebooks/cataratas_images/1_normal/NL_049.png', '/content/drive/My Drive/Colab Notebooks/cataratas_images/1_normal/NL_052.png', '/content/drive/My Drive/Colab Notebooks/cataratas_images/1_normal/NL_233.png', '/content/drive/My Drive/Colab Notebooks/cataratas_images/2_glaucoma/Glaucoma_042.png', '/content/drive/My Drive/Colab Notebooks/cataratas_images/2_glaucoma/Glaucoma_092.png', '/content/drive/My Drive/Colab Notebooks/cataratas_images/1_normal/NL_198.png', '/content/drive/My Drive/Colab Notebooks/cataratas_images/1_normal/NL_093.png', '/content/drive/My Drive/Colab Notebooks/cataratas_images/2_cataract/cataract_051.png', '/content/drive/My Drive/Colab Notebooks/cataratas_images/2_cataract/cataract_074.png', '/content/drive/My Drive/Colab Notebooks/cataratas_images/3_retina_disease/Retina_046.png', '/content/drive/My Drive/Colab Notebooks/cataratas_images/2_cataract/cataract_092.png', '/content/drive/My Drive/Colab Notebooks/cataratas_images/1_normal/NL_069.png', '/content/drive/My Drive/Colab Notebooks/cataratas_images/1_normal/NL_170.png', '/content/drive/My Drive/Colab Notebooks/cataratas_images/1_normal/NL_014.png', '/content/drive/My Drive/Colab Notebooks/cataratas_images/1_normal/NL_261.png', '/content/drive/My Drive/Colab Notebooks/cataratas_images/2_cataract/cataract_053.png', '/content/drive/My Drive/Colab Notebooks/cataratas_images/2_glaucoma/Glaucoma_008.png', '/content/drive/My Drive/Colab Notebooks/cataratas_images/1_normal/NL_071.png', '/content/drive/My Drive/Colab Notebooks/cataratas_images/1_normal/NL_073.png', '/content/drive/My Drive/Colab Notebooks/cataratas_images/1_normal/NL_066.png', '/content/drive/My Drive/Colab Notebooks/cataratas_images/2_cataract/cataract_089.png', '/content/drive/My Drive/Colab Notebooks/cataratas_images/3_retina_disease/Retina_022.png', '/content/drive/My Drive/Colab Notebooks/cataratas_images/2_glaucoma/Glaucoma_032.png', '/content/drive/My Drive/Colab Notebooks/cataratas_images/1_normal/NL_222.png', '/content/drive/My Drive/Colab Notebooks/cataratas_images/3_retina_disease/Retina_072.png', '/content/drive/My Drive/Colab Notebooks/cataratas_images/1_normal/NL_136.png', '/content/drive/My Drive/Colab Notebooks/cataratas_images/2_cataract/cataract_061.png', '/content/drive/My Drive/Colab Notebooks/cataratas_images/2_glaucoma/Glaucoma_043.png', '/content/drive/My Drive/Colab Notebooks/cataratas_images/1_normal/NL_256.png', '/content/drive/My Drive/Colab Notebooks/cataratas_images/1_normal/NL_082.png', '/content/drive/My Drive/Colab Notebooks/cataratas_images/2_cataract/cataract_006.png', '/content/drive/My Drive/Colab Notebooks/cataratas_images/1_normal/NL_129.png', '/content/drive/My Drive/Colab Notebooks/cataratas_images/3_retina_disease/Retina_032.png', '/content/drive/My Drive/Colab Notebooks/cataratas_images/3_retina_disease/Retina_100.png', '/content/drive/My Drive/Colab Notebooks/cataratas_images/1_normal/NL_002.png', '/content/drive/My Drive/Colab Notebooks/cataratas_images/3_retina_disease/Retina_006.png', '/content/drive/My Drive/Colab Notebooks/cataratas_images/2_cataract/cataract_060.png', '/content/drive/My Drive/Colab Notebooks/cataratas_images/1_normal/NL_274.png', '/content/drive/My Drive/Colab Notebooks/cataratas_images/3_retina_disease/Retina_092.png', '/content/drive/My Drive/Colab Notebooks/cataratas_images/3_retina_disease/Retina_020.png', '/content/drive/My Drive/Colab Notebooks/cataratas_images/2_cataract/cataract_057.png', '/content/drive/My Drive/Colab Notebooks/cataratas_images/2_cataract/cataract_095.png', '/content/drive/My Drive/Colab Notebooks/cataratas_images/1_normal/NL_239.png', '/content/drive/My Drive/Colab Notebooks/cataratas_images/2_cataract/cataract_076.png', '/content/drive/My Drive/Colab Notebooks/cataratas_images/1_normal/NL_188.png', '/content/drive/My Drive/Colab Notebooks/cataratas_images/1_normal/NL_012.png', '/content/drive/My Drive/Colab Notebooks/cataratas_images/1_normal/NL_206.png', '/content/drive/My Drive/Colab Notebooks/cataratas_images/1_normal/NL_024.png'], labels:[1, 1, 1, 1, 1, 1, 1, 1, 1, 1, 1, 1, 1, 1, 1, 1, 1, 1, 1, 1, 1, 1, 1, 1, 1, 1, 1, 1, 1, 1, 1, 1, 1, 1, 1, 1, 1, 1, 1, 1, 1, 1, 1, 1, 1, 1, 1, 1, 1, 1, 1, 1, 1, 1, 1, 1, 1, 1, 1, 1, 1, 1, 1, 1, 1, 1, 1, 1, 1, 1, 1, 1, 1, 1, 1, 1, 1, 1, 1, 1, 1, 1, 1, 1, 1, 1, 1, 1, 1, 1, 1, 1, 1, 1, 1, 1, 1, 1, 1, 1, 1, 1, 1, 1, 1, 1, 1, 1, 1, 1, 1, 1, 1, 1, 1, 1, 1, 1, 1, 1, 1, 1, 1, 1, 1, 1, 1, 1, 1, 1, 1, 1, 1, 1, 1, 1, 1, 1, 1, 1, 1, 1, 1, 1, 1, 1, 1, 1, 1, 1, 1, 1, 1, 1, 1, 1, 1, 1, 1, 1, 1, 1, 1, 1, 1, 1, 1, 1, 1, 1, 1, 1, 1, 1, 1, 1, 1, 1, 1, 1, 1, 1, 1, 1, 1, 1, 1, 1, 1, 1, 1, 1, 1, 1, 1, 1, 1, 1, 1, 1, 1, 1, 1, 1, 1, 1, 1, 1, 1, 1, 1, 1, 1, 1, 1, 1, 1, 1, 1, 1, 1, 1, 1, 1, 1, 1, 1, 1, 1, 1, 1, 1, 1, 1, 1, 1, 1, 1, 1, 1, 1, 1, 1, 1, 1, 1, 1, 1, 1, 1, 1, 1, 1, 1, 1, 1, 1, 1, 1, 1, 1, 1, 1, 1, 1, 1, 1, 1, 1, 1, 1, 1, 1, 1, 1, 1, 1, 1, 1, 1, 1, 1, 1, 1, 1, 1, 1, 1, 1, 1, 1, 1, 1, 1, 1, 1, 1, 1, 1, 1, 1, 1, 1, 1, 1, 1, 1, 1, 1, 1, 1, 1, 1, 1, 1, 1, 1, 1, 1, 1, 1, 1, 1, 1, 1, 1, 1, 1, 1, 1, 1, 1, 1, 1, 1, 1, 1, 1, 1, 1, 1, 1, 1, 1, 1, 1, 1, 1, 1, 1, 1, 1, 1, 1, 1, 1, 1, 1, 1, 1, 1, 1, 1, 1, 1, 1, 1, 1, 1, 1, 1, 1, 1, 1, 1, 1, 1, 1, 1, 1, 1, 1, 1, 1, 1, 1, 1, 1, 1, 1, 1, 1, 1, 1, 1, 1, 1, 1, 1, 1, 1, 1, 1, 1, 1, 1, 1, 1, 1, 1, 1, 1, 1, 1, 1, 1, 1, 1, 1, 1, 1, 1, 1, 1, 1, 1, 1, 1, 1, 1, 1, 1, 1, 1, 1, 1, 1, 1, 1, 1, 1, 1, 1, 1, 1, 1, 1, 1, 1, 1, 1, 1, 1, 1, 1, 1, 1, 1, 1, 1, 1, 1, 1, 1, 1, 1, 1, 1, 1, 1, 1, 1, 1, 1, 1, 1, 1, 1, 1, 1, 1, 1, 1, 1, 1, 1, 1, 1, 1, 1, 1, 1, 1, 1, 1, 1, 1, 1, 1, 1, 1, 1, 1, 1, 1, 1, 1, 1, 1, 1, 1, 1, 1, 1, 1, 1, 1, 1, 1, 1, 1, 1, 1, 1, 1, 1, 1, 1, 1, 1, 1, 1, 1, 1, 1, 1, 1, 1, 1, 1, 1, 1, 1, 1, 1, 1, 1, 1, 1, 1, 1, 1, 1, 1, 1, 1, 1, 1, 1, 1, 1, 1, 1, 1, 1, 1, 1, 1, 1, 1, 1, 1, 1, 1, 1, 1, 1, 1, 1, 1, 1, 1, 1, 1, 1, 1, 1, 1, 1, 1, 1, 1, 1, 1, 1, 1, 1, 1, 1, 1, 1]\n"
          ],
          "name": "stdout"
        }
      ]
    },
    {
      "cell_type": "code",
      "metadata": {
        "id": "5GJMQy9K7Kcq",
        "colab_type": "code",
        "colab": {
          "base_uri": "https://localhost:8080/",
          "height": 34
        },
        "outputId": "5902df71-8a99-4d93-fda5-d7897f7d71d0"
      },
      "source": [
        "import re\n",
        "\n",
        "images = []\n",
        "directories = []\n",
        "dircount = []\n",
        "prevRoot=''\n",
        "cant=0\n",
        " \n",
        "imgpath = \"/content/drive/My Drive/Colab Notebooks/cataratas_images/\"\n",
        "\n",
        "for root, dirnames, filenames in os.walk(imgpath):\n",
        "    for filename in filenames:\n",
        "        if re.search(\"\\.(jpg|jpeg|png|bmp|tiff)$\", filename):\n",
        "            cant=cant+1\n",
        "            filepath = os.path.join(root, filename)\n",
        "            image = plt.imread(filepath)\n",
        "            images.append(image)\n",
        "            b = \"Leyendo...\" + str(cant)\n",
        "            print (b, end=\"\\r\")\n",
        "            if prevRoot !=root:\n",
        "                print(root, cant)\n",
        "                prevRoot=root\n",
        "                directories.append(root)\n",
        "                dircount.append(cant)\n",
        "                cant=0\n",
        "dircount.append(cant)\n",
        " \n",
        "dircount = dircount[1:]\n",
        "dircount[0]=dircount[0]+1\n",
        "print('Directorios leidos:',len(directories))\n",
        "print(\"Imagenes en cada directorio\", dircount)\n",
        "print('suma Total de imagenes en subdirs:',sum(dircount))"
      ],
      "execution_count": null,
      "outputs": [
        {
          "output_type": "stream",
          "text": [
            "/content/drive/My Drive/Colab Notebooks/cataratas_images/1_normal 1\n"
          ],
          "name": "stdout"
        }
      ]
    },
    {
      "cell_type": "markdown",
      "metadata": {
        "id": "AsPr198M07jr",
        "colab_type": "text"
      },
      "source": [
        "# Nueva forma de cargar los datos"
      ]
    },
    {
      "cell_type": "code",
      "metadata": {
        "id": "Yj-Ompth8KXn",
        "colab_type": "code",
        "colab": {}
      },
      "source": [
        "# Cargando librerias\n",
        "from __future__ import absolute_import, division, print_function, unicode_literals\n",
        "from tensorflow.keras import layers, models\n",
        "\n",
        "import matplotlib.pylab as plt\n",
        "import tensorflow as tf\n",
        "import tensorflow_hub as hub\n",
        "import numpy as np"
      ],
      "execution_count": 8,
      "outputs": []
    },
    {
      "cell_type": "code",
      "metadata": {
        "id": "sp6qlbJv0-ND",
        "colab_type": "code",
        "colab": {
          "base_uri": "https://localhost:8080/",
          "height": 52
        },
        "outputId": "a7d5e75c-797f-49a8-833a-d2685b00c49f"
      },
      "source": [
        "data_root = ''\n",
        "print(data_root)\n",
        "\n",
        "data_root = \"/content/drive/My Drive/Colab Notebooks/cataratas_images\"\n",
        "print(data_root)"
      ],
      "execution_count": 4,
      "outputs": [
        {
          "output_type": "stream",
          "text": [
            "\n",
            "/content/drive/My Drive/Colab Notebooks/cataratas_images\n"
          ],
          "name": "stdout"
        }
      ]
    },
    {
      "cell_type": "code",
      "metadata": {
        "id": "vZdCIWXp6_yq",
        "colab_type": "code",
        "colab": {
          "base_uri": "https://localhost:8080/",
          "height": 69
        },
        "outputId": "01dd8f5d-da5a-4021-b68d-501ab9d98498"
      },
      "source": [
        "# Utilizamos un generador de datos aleatorios para sacar las imagenes de prueba y entrenamiento\n",
        "\n",
        "IMAGE_SHAPE = (224, 224)\n",
        "TRAINING_DATA_DIR = str(data_root)\n",
        "print(TRAINING_DATA_DIR)\n",
        "\n",
        "datagen_kwargs = dict(rescale =1./255, validation_split=.20)\n",
        "valid_datagen = tf.keras.preprocessing.image.ImageDataGenerator(**datagen_kwargs)\n",
        "\n",
        "valid_generator = valid_datagen.flow_from_directory(\n",
        "    TRAINING_DATA_DIR,\n",
        "    subset=\"validation\",\n",
        "    shuffle=True,\n",
        "    target_size=IMAGE_SHAPE\n",
        ")\n",
        "\n",
        "train_datagen = tf.keras.preprocessing.image.ImageDataGenerator(**datagen_kwargs)\n",
        "train_generator = train_datagen.flow_from_directory(\n",
        "    TRAINING_DATA_DIR,\n",
        "    subset=\"training\",\n",
        "    shuffle=True,\n",
        "    target_size=IMAGE_SHAPE\n",
        ")"
      ],
      "execution_count": 5,
      "outputs": [
        {
          "output_type": "stream",
          "text": [
            "/content/drive/My Drive/Colab Notebooks/cataratas_images\n",
            "Found 120 images belonging to 4 classes.\n",
            "Found 481 images belonging to 4 classes.\n"
          ],
          "name": "stdout"
        }
      ]
    },
    {
      "cell_type": "code",
      "metadata": {
        "id": "RWGDY7S9-9kr",
        "colab_type": "code",
        "colab": {
          "base_uri": "https://localhost:8080/",
          "height": 52
        },
        "outputId": "85612a68-b05e-4a83-e12e-04414c62209c"
      },
      "source": [
        "# Train dataset\n",
        "image_train, label_train = next(iter(train_generator))\n",
        "print(image_train.shape)\n",
        "print(label_train.shape)"
      ],
      "execution_count": 6,
      "outputs": [
        {
          "output_type": "stream",
          "text": [
            "(32, 224, 224, 3)\n",
            "(32, 4)\n"
          ],
          "name": "stdout"
        }
      ]
    },
    {
      "cell_type": "markdown",
      "metadata": {
        "id": "WDQxga7uIMD8",
        "colab_type": "text"
      },
      "source": [
        "# Construcción del modelo CNN"
      ]
    },
    {
      "cell_type": "code",
      "metadata": {
        "id": "bSDye2J4CDld",
        "colab_type": "code",
        "colab": {}
      },
      "source": [
        "model = models.Sequential()\n",
        "model.add(layers.Conv2D(32, (3,3), activation='relu', input_shape=(32,32,3)))\n",
        "model.add(layers.MaxPooling2D(2,2))\n",
        "model.add(layers.Conv2D(64, (3,3), activation='relu'))\n",
        "model.add(layers.MaxPooling2D(2,2))\n",
        "model.add(layers.Conv2D(64, (3,3), activation='relu'))"
      ],
      "execution_count": 12,
      "outputs": []
    },
    {
      "cell_type": "code",
      "metadata": {
        "id": "wRjNBxXHJzMS",
        "colab_type": "code",
        "colab": {
          "base_uri": "https://localhost:8080/",
          "height": 330
        },
        "outputId": "28dee94c-a943-43ee-addc-7342548e7af9"
      },
      "source": [
        "model.summary()"
      ],
      "execution_count": 13,
      "outputs": [
        {
          "output_type": "stream",
          "text": [
            "Model: \"sequential_2\"\n",
            "_________________________________________________________________\n",
            "Layer (type)                 Output Shape              Param #   \n",
            "=================================================================\n",
            "conv2d_1 (Conv2D)            (None, 30, 30, 32)        896       \n",
            "_________________________________________________________________\n",
            "max_pooling2d_1 (MaxPooling2 (None, 15, 15, 32)        0         \n",
            "_________________________________________________________________\n",
            "conv2d_2 (Conv2D)            (None, 13, 13, 64)        18496     \n",
            "_________________________________________________________________\n",
            "max_pooling2d_2 (MaxPooling2 (None, 6, 6, 64)          0         \n",
            "_________________________________________________________________\n",
            "conv2d_3 (Conv2D)            (None, 4, 4, 64)          36928     \n",
            "=================================================================\n",
            "Total params: 56,320\n",
            "Trainable params: 56,320\n",
            "Non-trainable params: 0\n",
            "_________________________________________________________________\n"
          ],
          "name": "stdout"
        }
      ]
    },
    {
      "cell_type": "code",
      "metadata": {
        "id": "H_mrryCnNf9Z",
        "colab_type": "code",
        "colab": {}
      },
      "source": [
        "model.add(layers.Flatten())\n",
        "model.add(layers.Dense(64, activation='relu'))\n",
        "model.add(layers.Dense(10, activation='softmax'))"
      ],
      "execution_count": 21,
      "outputs": []
    },
    {
      "cell_type": "code",
      "metadata": {
        "id": "gmvJx8Z_NqIz",
        "colab_type": "code",
        "colab": {
          "base_uri": "https://localhost:8080/",
          "height": 607
        },
        "outputId": "4f8628d7-69a0-4063-d3fe-2645fbdbcd37"
      },
      "source": [
        "model.summary()"
      ],
      "execution_count": 23,
      "outputs": [
        {
          "output_type": "stream",
          "text": [
            "Model: \"sequential_2\"\n",
            "_________________________________________________________________\n",
            "Layer (type)                 Output Shape              Param #   \n",
            "=================================================================\n",
            "conv2d_1 (Conv2D)            (None, 30, 30, 32)        896       \n",
            "_________________________________________________________________\n",
            "max_pooling2d_1 (MaxPooling2 (None, 15, 15, 32)        0         \n",
            "_________________________________________________________________\n",
            "conv2d_2 (Conv2D)            (None, 13, 13, 64)        18496     \n",
            "_________________________________________________________________\n",
            "max_pooling2d_2 (MaxPooling2 (None, 6, 6, 64)          0         \n",
            "_________________________________________________________________\n",
            "conv2d_3 (Conv2D)            (None, 4, 4, 64)          36928     \n",
            "_________________________________________________________________\n",
            "flatten (Flatten)            (None, 1024)              0         \n",
            "_________________________________________________________________\n",
            "dense (Dense)                (None, 64)                65600     \n",
            "_________________________________________________________________\n",
            "dense_1 (Dense)              (None, 10)                650       \n",
            "_________________________________________________________________\n",
            "flatten_1 (Flatten)          (None, 10)                0         \n",
            "_________________________________________________________________\n",
            "dense_2 (Dense)              (None, 64)                704       \n",
            "_________________________________________________________________\n",
            "flatten_2 (Flatten)          (None, 64)                0         \n",
            "_________________________________________________________________\n",
            "dense_4 (Dense)              (None, 64)                4160      \n",
            "_________________________________________________________________\n",
            "dense_5 (Dense)              (None, 10)                650       \n",
            "=================================================================\n",
            "Total params: 128,084\n",
            "Trainable params: 128,084\n",
            "Non-trainable params: 0\n",
            "_________________________________________________________________\n"
          ],
          "name": "stdout"
        }
      ]
    },
    {
      "cell_type": "markdown",
      "metadata": {
        "id": "7dBEAwBXNuTA",
        "colab_type": "text"
      },
      "source": [
        "## Compilación y entrenamiento del modelo"
      ]
    },
    {
      "cell_type": "code",
      "metadata": {
        "id": "Dn2hrratNrHa",
        "colab_type": "code",
        "colab": {
          "base_uri": "https://localhost:8080/",
          "height": 836
        },
        "outputId": "584f7408-36c9-4508-ff84-4400ed2e3f35"
      },
      "source": [
        "model.compile(optimizer='adam',\n",
        "              loss=tf.keras.losses.SparseCategoricalCrossentropy(from_logits=True),\n",
        "              metrics=['accuracy'])\n",
        "\n",
        "history = model.fit(image_train, label_train, epochs=10, validation_data=(valid_generator))"
      ],
      "execution_count": 22,
      "outputs": [
        {
          "output_type": "stream",
          "text": [
            "Epoch 1/10\n",
            "WARNING:tensorflow:Model was constructed with shape (None, 32, 32, 3) for input Tensor(\"conv2d_1_input:0\", shape=(None, 32, 32, 3), dtype=float32), but it was called on an input with incompatible shape (32, 224, 224, 3).\n"
          ],
          "name": "stdout"
        },
        {
          "output_type": "error",
          "ename": "ValueError",
          "evalue": "ignored",
          "traceback": [
            "\u001b[0;31m---------------------------------------------------------------------------\u001b[0m",
            "\u001b[0;31mValueError\u001b[0m                                Traceback (most recent call last)",
            "\u001b[0;32m<ipython-input-22-5ad226a1ce92>\u001b[0m in \u001b[0;36m<module>\u001b[0;34m()\u001b[0m\n\u001b[1;32m      3\u001b[0m               metrics=['accuracy'])\n\u001b[1;32m      4\u001b[0m \u001b[0;34m\u001b[0m\u001b[0m\n\u001b[0;32m----> 5\u001b[0;31m \u001b[0mhistory\u001b[0m \u001b[0;34m=\u001b[0m \u001b[0mmodel\u001b[0m\u001b[0;34m.\u001b[0m\u001b[0mfit\u001b[0m\u001b[0;34m(\u001b[0m\u001b[0mimage_train\u001b[0m\u001b[0;34m,\u001b[0m \u001b[0mlabel_train\u001b[0m\u001b[0;34m,\u001b[0m \u001b[0mepochs\u001b[0m\u001b[0;34m=\u001b[0m\u001b[0;36m10\u001b[0m\u001b[0;34m,\u001b[0m \u001b[0mvalidation_data\u001b[0m\u001b[0;34m=\u001b[0m\u001b[0;34m(\u001b[0m\u001b[0mvalid_generator\u001b[0m\u001b[0;34m)\u001b[0m\u001b[0;34m)\u001b[0m\u001b[0;34m\u001b[0m\u001b[0;34m\u001b[0m\u001b[0m\n\u001b[0m",
            "\u001b[0;32m/usr/local/lib/python3.6/dist-packages/tensorflow/python/keras/engine/training.py\u001b[0m in \u001b[0;36m_method_wrapper\u001b[0;34m(self, *args, **kwargs)\u001b[0m\n\u001b[1;32m     64\u001b[0m   \u001b[0;32mdef\u001b[0m \u001b[0m_method_wrapper\u001b[0m\u001b[0;34m(\u001b[0m\u001b[0mself\u001b[0m\u001b[0;34m,\u001b[0m \u001b[0;34m*\u001b[0m\u001b[0margs\u001b[0m\u001b[0;34m,\u001b[0m \u001b[0;34m**\u001b[0m\u001b[0mkwargs\u001b[0m\u001b[0;34m)\u001b[0m\u001b[0;34m:\u001b[0m\u001b[0;34m\u001b[0m\u001b[0;34m\u001b[0m\u001b[0m\n\u001b[1;32m     65\u001b[0m     \u001b[0;32mif\u001b[0m \u001b[0;32mnot\u001b[0m \u001b[0mself\u001b[0m\u001b[0;34m.\u001b[0m\u001b[0m_in_multi_worker_mode\u001b[0m\u001b[0;34m(\u001b[0m\u001b[0;34m)\u001b[0m\u001b[0;34m:\u001b[0m  \u001b[0;31m# pylint: disable=protected-access\u001b[0m\u001b[0;34m\u001b[0m\u001b[0;34m\u001b[0m\u001b[0m\n\u001b[0;32m---> 66\u001b[0;31m       \u001b[0;32mreturn\u001b[0m \u001b[0mmethod\u001b[0m\u001b[0;34m(\u001b[0m\u001b[0mself\u001b[0m\u001b[0;34m,\u001b[0m \u001b[0;34m*\u001b[0m\u001b[0margs\u001b[0m\u001b[0;34m,\u001b[0m \u001b[0;34m**\u001b[0m\u001b[0mkwargs\u001b[0m\u001b[0;34m)\u001b[0m\u001b[0;34m\u001b[0m\u001b[0;34m\u001b[0m\u001b[0m\n\u001b[0m\u001b[1;32m     67\u001b[0m \u001b[0;34m\u001b[0m\u001b[0m\n\u001b[1;32m     68\u001b[0m     \u001b[0;31m# Running inside `run_distribute_coordinator` already.\u001b[0m\u001b[0;34m\u001b[0m\u001b[0;34m\u001b[0m\u001b[0;34m\u001b[0m\u001b[0m\n",
            "\u001b[0;32m/usr/local/lib/python3.6/dist-packages/tensorflow/python/keras/engine/training.py\u001b[0m in \u001b[0;36mfit\u001b[0;34m(self, x, y, batch_size, epochs, verbose, callbacks, validation_split, validation_data, shuffle, class_weight, sample_weight, initial_epoch, steps_per_epoch, validation_steps, validation_batch_size, validation_freq, max_queue_size, workers, use_multiprocessing)\u001b[0m\n\u001b[1;32m    846\u001b[0m                 batch_size=batch_size):\n\u001b[1;32m    847\u001b[0m               \u001b[0mcallbacks\u001b[0m\u001b[0;34m.\u001b[0m\u001b[0mon_train_batch_begin\u001b[0m\u001b[0;34m(\u001b[0m\u001b[0mstep\u001b[0m\u001b[0;34m)\u001b[0m\u001b[0;34m\u001b[0m\u001b[0;34m\u001b[0m\u001b[0m\n\u001b[0;32m--> 848\u001b[0;31m               \u001b[0mtmp_logs\u001b[0m \u001b[0;34m=\u001b[0m \u001b[0mtrain_function\u001b[0m\u001b[0;34m(\u001b[0m\u001b[0miterator\u001b[0m\u001b[0;34m)\u001b[0m\u001b[0;34m\u001b[0m\u001b[0;34m\u001b[0m\u001b[0m\n\u001b[0m\u001b[1;32m    849\u001b[0m               \u001b[0;31m# Catch OutOfRangeError for Datasets of unknown size.\u001b[0m\u001b[0;34m\u001b[0m\u001b[0;34m\u001b[0m\u001b[0;34m\u001b[0m\u001b[0m\n\u001b[1;32m    850\u001b[0m               \u001b[0;31m# This blocks until the batch has finished executing.\u001b[0m\u001b[0;34m\u001b[0m\u001b[0;34m\u001b[0m\u001b[0;34m\u001b[0m\u001b[0m\n",
            "\u001b[0;32m/usr/local/lib/python3.6/dist-packages/tensorflow/python/eager/def_function.py\u001b[0m in \u001b[0;36m__call__\u001b[0;34m(self, *args, **kwds)\u001b[0m\n\u001b[1;32m    578\u001b[0m         \u001b[0mxla_context\u001b[0m\u001b[0;34m.\u001b[0m\u001b[0mExit\u001b[0m\u001b[0;34m(\u001b[0m\u001b[0;34m)\u001b[0m\u001b[0;34m\u001b[0m\u001b[0;34m\u001b[0m\u001b[0m\n\u001b[1;32m    579\u001b[0m     \u001b[0;32melse\u001b[0m\u001b[0;34m:\u001b[0m\u001b[0;34m\u001b[0m\u001b[0;34m\u001b[0m\u001b[0m\n\u001b[0;32m--> 580\u001b[0;31m       \u001b[0mresult\u001b[0m \u001b[0;34m=\u001b[0m \u001b[0mself\u001b[0m\u001b[0;34m.\u001b[0m\u001b[0m_call\u001b[0m\u001b[0;34m(\u001b[0m\u001b[0;34m*\u001b[0m\u001b[0margs\u001b[0m\u001b[0;34m,\u001b[0m \u001b[0;34m**\u001b[0m\u001b[0mkwds\u001b[0m\u001b[0;34m)\u001b[0m\u001b[0;34m\u001b[0m\u001b[0;34m\u001b[0m\u001b[0m\n\u001b[0m\u001b[1;32m    581\u001b[0m \u001b[0;34m\u001b[0m\u001b[0m\n\u001b[1;32m    582\u001b[0m     \u001b[0;32mif\u001b[0m \u001b[0mtracing_count\u001b[0m \u001b[0;34m==\u001b[0m \u001b[0mself\u001b[0m\u001b[0;34m.\u001b[0m\u001b[0m_get_tracing_count\u001b[0m\u001b[0;34m(\u001b[0m\u001b[0;34m)\u001b[0m\u001b[0;34m:\u001b[0m\u001b[0;34m\u001b[0m\u001b[0;34m\u001b[0m\u001b[0m\n",
            "\u001b[0;32m/usr/local/lib/python3.6/dist-packages/tensorflow/python/eager/def_function.py\u001b[0m in \u001b[0;36m_call\u001b[0;34m(self, *args, **kwds)\u001b[0m\n\u001b[1;32m    625\u001b[0m       \u001b[0;31m# This is the first call of __call__, so we have to initialize.\u001b[0m\u001b[0;34m\u001b[0m\u001b[0;34m\u001b[0m\u001b[0;34m\u001b[0m\u001b[0m\n\u001b[1;32m    626\u001b[0m       \u001b[0minitializers\u001b[0m \u001b[0;34m=\u001b[0m \u001b[0;34m[\u001b[0m\u001b[0;34m]\u001b[0m\u001b[0;34m\u001b[0m\u001b[0;34m\u001b[0m\u001b[0m\n\u001b[0;32m--> 627\u001b[0;31m       \u001b[0mself\u001b[0m\u001b[0;34m.\u001b[0m\u001b[0m_initialize\u001b[0m\u001b[0;34m(\u001b[0m\u001b[0margs\u001b[0m\u001b[0;34m,\u001b[0m \u001b[0mkwds\u001b[0m\u001b[0;34m,\u001b[0m \u001b[0madd_initializers_to\u001b[0m\u001b[0;34m=\u001b[0m\u001b[0minitializers\u001b[0m\u001b[0;34m)\u001b[0m\u001b[0;34m\u001b[0m\u001b[0;34m\u001b[0m\u001b[0m\n\u001b[0m\u001b[1;32m    628\u001b[0m     \u001b[0;32mfinally\u001b[0m\u001b[0;34m:\u001b[0m\u001b[0;34m\u001b[0m\u001b[0;34m\u001b[0m\u001b[0m\n\u001b[1;32m    629\u001b[0m       \u001b[0;31m# At this point we know that the initialization is complete (or less\u001b[0m\u001b[0;34m\u001b[0m\u001b[0;34m\u001b[0m\u001b[0;34m\u001b[0m\u001b[0m\n",
            "\u001b[0;32m/usr/local/lib/python3.6/dist-packages/tensorflow/python/eager/def_function.py\u001b[0m in \u001b[0;36m_initialize\u001b[0;34m(self, args, kwds, add_initializers_to)\u001b[0m\n\u001b[1;32m    504\u001b[0m     self._concrete_stateful_fn = (\n\u001b[1;32m    505\u001b[0m         self._stateful_fn._get_concrete_function_internal_garbage_collected(  # pylint: disable=protected-access\n\u001b[0;32m--> 506\u001b[0;31m             *args, **kwds))\n\u001b[0m\u001b[1;32m    507\u001b[0m \u001b[0;34m\u001b[0m\u001b[0m\n\u001b[1;32m    508\u001b[0m     \u001b[0;32mdef\u001b[0m \u001b[0minvalid_creator_scope\u001b[0m\u001b[0;34m(\u001b[0m\u001b[0;34m*\u001b[0m\u001b[0munused_args\u001b[0m\u001b[0;34m,\u001b[0m \u001b[0;34m**\u001b[0m\u001b[0munused_kwds\u001b[0m\u001b[0;34m)\u001b[0m\u001b[0;34m:\u001b[0m\u001b[0;34m\u001b[0m\u001b[0;34m\u001b[0m\u001b[0m\n",
            "\u001b[0;32m/usr/local/lib/python3.6/dist-packages/tensorflow/python/eager/function.py\u001b[0m in \u001b[0;36m_get_concrete_function_internal_garbage_collected\u001b[0;34m(self, *args, **kwargs)\u001b[0m\n\u001b[1;32m   2444\u001b[0m       \u001b[0margs\u001b[0m\u001b[0;34m,\u001b[0m \u001b[0mkwargs\u001b[0m \u001b[0;34m=\u001b[0m \u001b[0;32mNone\u001b[0m\u001b[0;34m,\u001b[0m \u001b[0;32mNone\u001b[0m\u001b[0;34m\u001b[0m\u001b[0;34m\u001b[0m\u001b[0m\n\u001b[1;32m   2445\u001b[0m     \u001b[0;32mwith\u001b[0m \u001b[0mself\u001b[0m\u001b[0;34m.\u001b[0m\u001b[0m_lock\u001b[0m\u001b[0;34m:\u001b[0m\u001b[0;34m\u001b[0m\u001b[0;34m\u001b[0m\u001b[0m\n\u001b[0;32m-> 2446\u001b[0;31m       \u001b[0mgraph_function\u001b[0m\u001b[0;34m,\u001b[0m \u001b[0m_\u001b[0m\u001b[0;34m,\u001b[0m \u001b[0m_\u001b[0m \u001b[0;34m=\u001b[0m \u001b[0mself\u001b[0m\u001b[0;34m.\u001b[0m\u001b[0m_maybe_define_function\u001b[0m\u001b[0;34m(\u001b[0m\u001b[0margs\u001b[0m\u001b[0;34m,\u001b[0m \u001b[0mkwargs\u001b[0m\u001b[0;34m)\u001b[0m\u001b[0;34m\u001b[0m\u001b[0;34m\u001b[0m\u001b[0m\n\u001b[0m\u001b[1;32m   2447\u001b[0m     \u001b[0;32mreturn\u001b[0m \u001b[0mgraph_function\u001b[0m\u001b[0;34m\u001b[0m\u001b[0;34m\u001b[0m\u001b[0m\n\u001b[1;32m   2448\u001b[0m \u001b[0;34m\u001b[0m\u001b[0m\n",
            "\u001b[0;32m/usr/local/lib/python3.6/dist-packages/tensorflow/python/eager/function.py\u001b[0m in \u001b[0;36m_maybe_define_function\u001b[0;34m(self, args, kwargs)\u001b[0m\n\u001b[1;32m   2775\u001b[0m \u001b[0;34m\u001b[0m\u001b[0m\n\u001b[1;32m   2776\u001b[0m       \u001b[0mself\u001b[0m\u001b[0;34m.\u001b[0m\u001b[0m_function_cache\u001b[0m\u001b[0;34m.\u001b[0m\u001b[0mmissed\u001b[0m\u001b[0;34m.\u001b[0m\u001b[0madd\u001b[0m\u001b[0;34m(\u001b[0m\u001b[0mcall_context_key\u001b[0m\u001b[0;34m)\u001b[0m\u001b[0;34m\u001b[0m\u001b[0;34m\u001b[0m\u001b[0m\n\u001b[0;32m-> 2777\u001b[0;31m       \u001b[0mgraph_function\u001b[0m \u001b[0;34m=\u001b[0m \u001b[0mself\u001b[0m\u001b[0;34m.\u001b[0m\u001b[0m_create_graph_function\u001b[0m\u001b[0;34m(\u001b[0m\u001b[0margs\u001b[0m\u001b[0;34m,\u001b[0m \u001b[0mkwargs\u001b[0m\u001b[0;34m)\u001b[0m\u001b[0;34m\u001b[0m\u001b[0;34m\u001b[0m\u001b[0m\n\u001b[0m\u001b[1;32m   2778\u001b[0m       \u001b[0mself\u001b[0m\u001b[0;34m.\u001b[0m\u001b[0m_function_cache\u001b[0m\u001b[0;34m.\u001b[0m\u001b[0mprimary\u001b[0m\u001b[0;34m[\u001b[0m\u001b[0mcache_key\u001b[0m\u001b[0;34m]\u001b[0m \u001b[0;34m=\u001b[0m \u001b[0mgraph_function\u001b[0m\u001b[0;34m\u001b[0m\u001b[0;34m\u001b[0m\u001b[0m\n\u001b[1;32m   2779\u001b[0m       \u001b[0;32mreturn\u001b[0m \u001b[0mgraph_function\u001b[0m\u001b[0;34m,\u001b[0m \u001b[0margs\u001b[0m\u001b[0;34m,\u001b[0m \u001b[0mkwargs\u001b[0m\u001b[0;34m\u001b[0m\u001b[0;34m\u001b[0m\u001b[0m\n",
            "\u001b[0;32m/usr/local/lib/python3.6/dist-packages/tensorflow/python/eager/function.py\u001b[0m in \u001b[0;36m_create_graph_function\u001b[0;34m(self, args, kwargs, override_flat_arg_shapes)\u001b[0m\n\u001b[1;32m   2665\u001b[0m             \u001b[0marg_names\u001b[0m\u001b[0;34m=\u001b[0m\u001b[0marg_names\u001b[0m\u001b[0;34m,\u001b[0m\u001b[0;34m\u001b[0m\u001b[0;34m\u001b[0m\u001b[0m\n\u001b[1;32m   2666\u001b[0m             \u001b[0moverride_flat_arg_shapes\u001b[0m\u001b[0;34m=\u001b[0m\u001b[0moverride_flat_arg_shapes\u001b[0m\u001b[0;34m,\u001b[0m\u001b[0;34m\u001b[0m\u001b[0;34m\u001b[0m\u001b[0m\n\u001b[0;32m-> 2667\u001b[0;31m             capture_by_value=self._capture_by_value),\n\u001b[0m\u001b[1;32m   2668\u001b[0m         \u001b[0mself\u001b[0m\u001b[0;34m.\u001b[0m\u001b[0m_function_attributes\u001b[0m\u001b[0;34m,\u001b[0m\u001b[0;34m\u001b[0m\u001b[0;34m\u001b[0m\u001b[0m\n\u001b[1;32m   2669\u001b[0m         \u001b[0;31m# Tell the ConcreteFunction to clean up its graph once it goes out of\u001b[0m\u001b[0;34m\u001b[0m\u001b[0;34m\u001b[0m\u001b[0;34m\u001b[0m\u001b[0m\n",
            "\u001b[0;32m/usr/local/lib/python3.6/dist-packages/tensorflow/python/framework/func_graph.py\u001b[0m in \u001b[0;36mfunc_graph_from_py_func\u001b[0;34m(name, python_func, args, kwargs, signature, func_graph, autograph, autograph_options, add_control_dependencies, arg_names, op_return_value, collections, capture_by_value, override_flat_arg_shapes)\u001b[0m\n\u001b[1;32m    979\u001b[0m         \u001b[0m_\u001b[0m\u001b[0;34m,\u001b[0m \u001b[0moriginal_func\u001b[0m \u001b[0;34m=\u001b[0m \u001b[0mtf_decorator\u001b[0m\u001b[0;34m.\u001b[0m\u001b[0munwrap\u001b[0m\u001b[0;34m(\u001b[0m\u001b[0mpython_func\u001b[0m\u001b[0;34m)\u001b[0m\u001b[0;34m\u001b[0m\u001b[0;34m\u001b[0m\u001b[0m\n\u001b[1;32m    980\u001b[0m \u001b[0;34m\u001b[0m\u001b[0m\n\u001b[0;32m--> 981\u001b[0;31m       \u001b[0mfunc_outputs\u001b[0m \u001b[0;34m=\u001b[0m \u001b[0mpython_func\u001b[0m\u001b[0;34m(\u001b[0m\u001b[0;34m*\u001b[0m\u001b[0mfunc_args\u001b[0m\u001b[0;34m,\u001b[0m \u001b[0;34m**\u001b[0m\u001b[0mfunc_kwargs\u001b[0m\u001b[0;34m)\u001b[0m\u001b[0;34m\u001b[0m\u001b[0;34m\u001b[0m\u001b[0m\n\u001b[0m\u001b[1;32m    982\u001b[0m \u001b[0;34m\u001b[0m\u001b[0m\n\u001b[1;32m    983\u001b[0m       \u001b[0;31m# invariant: `func_outputs` contains only Tensors, CompositeTensors,\u001b[0m\u001b[0;34m\u001b[0m\u001b[0;34m\u001b[0m\u001b[0;34m\u001b[0m\u001b[0m\n",
            "\u001b[0;32m/usr/local/lib/python3.6/dist-packages/tensorflow/python/eager/def_function.py\u001b[0m in \u001b[0;36mwrapped_fn\u001b[0;34m(*args, **kwds)\u001b[0m\n\u001b[1;32m    439\u001b[0m         \u001b[0;31m# __wrapped__ allows AutoGraph to swap in a converted function. We give\u001b[0m\u001b[0;34m\u001b[0m\u001b[0;34m\u001b[0m\u001b[0;34m\u001b[0m\u001b[0m\n\u001b[1;32m    440\u001b[0m         \u001b[0;31m# the function a weak reference to itself to avoid a reference cycle.\u001b[0m\u001b[0;34m\u001b[0m\u001b[0;34m\u001b[0m\u001b[0;34m\u001b[0m\u001b[0m\n\u001b[0;32m--> 441\u001b[0;31m         \u001b[0;32mreturn\u001b[0m \u001b[0mweak_wrapped_fn\u001b[0m\u001b[0;34m(\u001b[0m\u001b[0;34m)\u001b[0m\u001b[0;34m.\u001b[0m\u001b[0m__wrapped__\u001b[0m\u001b[0;34m(\u001b[0m\u001b[0;34m*\u001b[0m\u001b[0margs\u001b[0m\u001b[0;34m,\u001b[0m \u001b[0;34m**\u001b[0m\u001b[0mkwds\u001b[0m\u001b[0;34m)\u001b[0m\u001b[0;34m\u001b[0m\u001b[0;34m\u001b[0m\u001b[0m\n\u001b[0m\u001b[1;32m    442\u001b[0m     \u001b[0mweak_wrapped_fn\u001b[0m \u001b[0;34m=\u001b[0m \u001b[0mweakref\u001b[0m\u001b[0;34m.\u001b[0m\u001b[0mref\u001b[0m\u001b[0;34m(\u001b[0m\u001b[0mwrapped_fn\u001b[0m\u001b[0;34m)\u001b[0m\u001b[0;34m\u001b[0m\u001b[0;34m\u001b[0m\u001b[0m\n\u001b[1;32m    443\u001b[0m \u001b[0;34m\u001b[0m\u001b[0m\n",
            "\u001b[0;32m/usr/local/lib/python3.6/dist-packages/tensorflow/python/framework/func_graph.py\u001b[0m in \u001b[0;36mwrapper\u001b[0;34m(*args, **kwargs)\u001b[0m\n\u001b[1;32m    966\u001b[0m           \u001b[0;32mexcept\u001b[0m \u001b[0mException\u001b[0m \u001b[0;32mas\u001b[0m \u001b[0me\u001b[0m\u001b[0;34m:\u001b[0m  \u001b[0;31m# pylint:disable=broad-except\u001b[0m\u001b[0;34m\u001b[0m\u001b[0;34m\u001b[0m\u001b[0m\n\u001b[1;32m    967\u001b[0m             \u001b[0;32mif\u001b[0m \u001b[0mhasattr\u001b[0m\u001b[0;34m(\u001b[0m\u001b[0me\u001b[0m\u001b[0;34m,\u001b[0m \u001b[0;34m\"ag_error_metadata\"\u001b[0m\u001b[0;34m)\u001b[0m\u001b[0;34m:\u001b[0m\u001b[0;34m\u001b[0m\u001b[0;34m\u001b[0m\u001b[0m\n\u001b[0;32m--> 968\u001b[0;31m               \u001b[0;32mraise\u001b[0m \u001b[0me\u001b[0m\u001b[0;34m.\u001b[0m\u001b[0mag_error_metadata\u001b[0m\u001b[0;34m.\u001b[0m\u001b[0mto_exception\u001b[0m\u001b[0;34m(\u001b[0m\u001b[0me\u001b[0m\u001b[0;34m)\u001b[0m\u001b[0;34m\u001b[0m\u001b[0;34m\u001b[0m\u001b[0m\n\u001b[0m\u001b[1;32m    969\u001b[0m             \u001b[0;32melse\u001b[0m\u001b[0;34m:\u001b[0m\u001b[0;34m\u001b[0m\u001b[0;34m\u001b[0m\u001b[0m\n\u001b[1;32m    970\u001b[0m               \u001b[0;32mraise\u001b[0m\u001b[0;34m\u001b[0m\u001b[0;34m\u001b[0m\u001b[0m\n",
            "\u001b[0;31mValueError\u001b[0m: in user code:\n\n    /usr/local/lib/python3.6/dist-packages/tensorflow/python/keras/engine/training.py:571 train_function  *\n        outputs = self.distribute_strategy.run(\n    /usr/local/lib/python3.6/dist-packages/tensorflow/python/distribute/distribute_lib.py:951 run  **\n        return self._extended.call_for_each_replica(fn, args=args, kwargs=kwargs)\n    /usr/local/lib/python3.6/dist-packages/tensorflow/python/distribute/distribute_lib.py:2290 call_for_each_replica\n        return self._call_for_each_replica(fn, args, kwargs)\n    /usr/local/lib/python3.6/dist-packages/tensorflow/python/distribute/distribute_lib.py:2649 _call_for_each_replica\n        return fn(*args, **kwargs)\n    /usr/local/lib/python3.6/dist-packages/tensorflow/python/keras/engine/training.py:531 train_step  **\n        y_pred = self(x, training=True)\n    /usr/local/lib/python3.6/dist-packages/tensorflow/python/keras/engine/base_layer.py:927 __call__\n        outputs = call_fn(cast_inputs, *args, **kwargs)\n    /usr/local/lib/python3.6/dist-packages/tensorflow/python/keras/engine/sequential.py:277 call\n        return super(Sequential, self).call(inputs, training=training, mask=mask)\n    /usr/local/lib/python3.6/dist-packages/tensorflow/python/keras/engine/network.py:719 call\n        convert_kwargs_to_constants=base_layer_utils.call_context().saving)\n    /usr/local/lib/python3.6/dist-packages/tensorflow/python/keras/engine/network.py:888 _run_internal_graph\n        output_tensors = layer(computed_tensors, **kwargs)\n    /usr/local/lib/python3.6/dist-packages/tensorflow/python/keras/engine/base_layer.py:886 __call__\n        self.name)\n    /usr/local/lib/python3.6/dist-packages/tensorflow/python/keras/engine/input_spec.py:216 assert_input_compatibility\n        ' but received input with shape ' + str(shape))\n\n    ValueError: Input 0 of layer dense is incompatible with the layer: expected axis -1 of input shape to have value 1024 but received input with shape [32, 173056]\n"
          ]
        }
      ]
    },
    {
      "cell_type": "code",
      "metadata": {
        "id": "bjXkhq9pRzfY",
        "colab_type": "code",
        "colab": {}
      },
      "source": [
        ""
      ],
      "execution_count": null,
      "outputs": []
    }
  ]
}